{
 "cells": [
  {
   "cell_type": "markdown",
   "id": "497e2f76",
   "metadata": {},
   "source": [
    "# Modelo Preditivo CARF"
   ]
  },
  {
   "cell_type": "markdown",
   "id": "19088f9d",
   "metadata": {},
   "source": [
    "## O que é o CARF?"
   ]
  },
  {
   "cell_type": "markdown",
   "id": "516d168e",
   "metadata": {},
   "source": [
    "O **CARF** (Conselho Administrativo de Recursos Fiscais) é um órgão colegiado vinculado ao Ministério da Fazenda no Brasil, responsável por julgar, em segunda instância administrativa, os recursos de contribuintes em processos relacionados a tributos federais e contribuições previdenciárias. Ele atua como uma instância de julgamento administrativo, permitindo que contribuintes e a Receita Federal discutam questões tributárias antes de recorrerem ao Poder Judiciário.\n",
    "\n",
    "### Objetivos do CARF\n",
    "\n",
    "1. **Resolução de Conflitos Tributários**: O CARF busca solucionar disputas entre contribuintes e a administração tributária de forma técnica e imparcial.\n",
    "2. **Garantia de Defesa**: Oferece aos contribuintes a oportunidade de apresentar recursos administrativos, garantindo o contraditório e a ampla defesa.\n",
    "3. **Redução de Litígios Judiciais**: Ao resolver questões tributárias na esfera administrativa, o CARF contribui para a diminuição de processos no Poder Judiciário.\n",
    "\n",
    "### Estrutura e Funcionamento\n",
    "\n",
    "O CARF é composto por conselheiros representantes da Fazenda Nacional e dos contribuintes, que são indicados por entidades de classe. Os julgamentos são realizados em turmas, câmaras ou seções especializadas, dependendo da complexidade e do valor envolvido no processo.\n",
    "\n",
    "### Importância\n",
    "\n",
    "O CARF desempenha um papel fundamental no sistema tributário brasileiro, promovendo segurança jurídica e eficiência na resolução de conflitos fiscais. Ele é especialmente relevante para empresas e pessoas físicas que desejam discutir autuações fiscais ou interpretações da legislação tributária sem recorrer imediatamente ao Judiciário."
   ]
  },
  {
   "cell_type": "markdown",
   "id": "f9377e64",
   "metadata": {},
   "source": [
    "## Entendimento do Negócio (Business Understanding)\n",
    "\n",
    "`Compreensão dos objetivos e requisitos do projeto do ponto de vista do negócio. Define-se o problema que se quer resolver e os objetivos da análise.`"
   ]
  },
  {
   "cell_type": "markdown",
   "id": "c0c3344d",
   "metadata": {},
   "source": [
    "**Objetivo Primário:** Prever a probabilidade de uma dívida ser ajuizada com base em características do devedor e da dívida.\n",
    "\n",
    "**Objetivo Secundário:**  Entender quais fatores impactam a situação das dívidas, como o valor consolidado ou o tipo de crédito. Entender as causas mais comuns para uma dívida ser extinta ou suspensa.\n",
    "\n",
    "Quando falamos sobre como o CARF (Conselho Administrativo de Recursos Fiscais) lida com a judicialização de suas decisões, estamos tratando da possibilidade de que as partes envolvidas (contribuintes ou a Fazenda Nacional) contestem as decisões do CARF no Poder Judiciário, caso não concordem com o julgamento administrativo. O CARF é uma instância administrativa e suas decisões, embora vinculativas para a administração tributária, podem ser desafiadas judicialmente.\n",
    "\n",
    "Quando uma ação é ajuizada, o CARF enfrenta desafios operacionais e administrativos que podem afetar sua eficiência e imagem. O impacto mais significativo é indireto, no que diz respeito ao aumento de processos judiciais, ao consumo de recursos internos e à necessidade de responder às demandas do Judiciário."
   ]
  },
  {
   "cell_type": "markdown",
   "id": "b74a5f21",
   "metadata": {},
   "source": [
    "## Entendimento dos Dados (Data Understanding)\n",
    "\n",
    "`Coleta inicial dos dados, familiarização com eles, identificação de problemas de qualidade, e geração de hipóteses iniciais.`\n"
   ]
  },
  {
   "cell_type": "markdown",
   "id": "fc9157cf",
   "metadata": {},
   "source": [
    "### Dados Abertos\n",
    "\n",
    "* **FGTS:** Refere-se a débitos de empregadores com o fundo de garantia.\n",
    "* **PREV (Previdenciário):** Débitos de contribuições previdenciárias.\n",
    "* **SIDA:** Conjunto de dados do sistema unificado da administração federal, com dados detalhados sobre devedores e sua situação perante a União.\n",
    "\n",
    "Layout dos arquivos:\n",
    "\n",
    "➜ FGTS PREV e SIDA\n",
    "| Campo                     | Descrição                                                                 |\n",
    "|---------------------------|---------------------------------------------------------------------------|\n",
    "| CPF_CNPJ                  | CPF ou CNPJ do devedor inscrito na dívida ativa.                         |\n",
    "| TIPO_PESSOA               | Indica se o devedor é pessoa física (F) ou jurídica (J).                 |\n",
    "| TIPO_DEVEDOR              | Categoria do devedor: contribuinte individual, empresa, órgão público etc. |\n",
    "| NOME_DEVEDOR              | Nome ou razão social do devedor.                                         |\n",
    "| UF_DEVEDOR                | Unidade da Federação (estado) do devedor.                               |\n",
    "| UNIDADE_RESPONSAVEL       | Unidade da PGFN responsável pela inscrição da dívida.                   |\n",
    "| NUMERO_INSCRICAO          | Número único da inscrição da dívida ativa.                              |\n",
    "| TIPO_SITUACAO_INSCRICAO   | Tipo da situação da inscrição: ativa, suspensa, extinta etc.            |\n",
    "| SITUACAO_INSCRICAO        | Descrição detalhada da situação atual da dívida.                        |\n",
    "| TIPO_CREDITO              | Tipo de crédito tributário ou não tributário (ex: FGTS, Multas).        |\n",
    "| DATA_INSCRICAO            | Data da inscrição na dívida ativa.                                      |\n",
    "| INDICADOR_AJUIZADO        | Indica se a dívida foi ajuizada: 'S' ou 'N'.                            |\n",
    "| VALOR_CONSOLIDADO         | Valor total da dívida com acréscimos legais.                            |\n",
    "\n",
    "➜ FGTS\n",
    "| Campo                  | Descrição                                           |\n",
    "|------------------------|---------------------------------------------------|\n",
    "| ENTIDADE_RESPONSAVEL   | Entidade que gerou a inscrição do débito FGTS.    |\n",
    "| UNIDADE_INSCRICAO      | Unidade/agência que realizou a inscrição do débito FGTS. |\n",
    "\n",
    "\n",
    "\n",
    "**ideias:**\n",
    "UF_DEVEDOR: tentar análise geográfica, indicando que alguns estados têm mais devedores. baixar dados do IBGE\n",
    "UNIDADE_RESPONSAVEL: tentar analisar a carga de dívidas por unidade da PGFN.\n",
    "SITUACAO_INSCRICAO: será que o status da dívida e como isso impacta a cobrança ou ajuizamento.\n",
    "TIPO_CREDITO: tentar ver risco associado a diferentes tipos de crédito.\n",
    "\n",
    "Tentar juntar com CNAE:"
   ]
  },
  {
   "cell_type": "code",
   "execution_count": 81,
   "id": "a2a6a9f5",
   "metadata": {},
   "outputs": [],
   "source": [
    "# Imports \n",
    "\n",
    "import sys\n",
    "import os\n",
    "\n",
    "import pandas as pd\n",
    "import matplotlib.pyplot as plt\n",
    "\n",
    "import networkx as nx\n",
    "from collections import Counter\n",
    "from networkx.drawing.nx_agraph import graphviz_layout\n",
    "\n",
    "project_root = os.path.abspath(os.path.join(os.getcwd(), '..'))\n",
    "if project_root not in sys.path:\n",
    "    sys.path.append(project_root)\n",
    "\n",
    "from modules.utils import (\n",
    "        find_zip_files_by_pattern,\n",
    "        read_zip_csvs_as_df,\n",
    "        dataframe_info,\n",
    "        extract_origem_from_filename\n",
    "    )"
   ]
  },
  {
   "cell_type": "markdown",
   "id": "9505c7ad",
   "metadata": {},
   "source": [
    "### Exploratory"
   ]
  },
  {
   "cell_type": "code",
   "execution_count": 9,
   "id": "9b6ac6c8",
   "metadata": {},
   "outputs": [
    {
     "name": "stdout",
     "output_type": "stream",
     "text": [
      "📂 Reading: F.K03200$Z.D50307.CNAECSV\n"
     ]
    }
   ],
   "source": [
    "f = os.path.join(project_root,'dados','Cnaes.zip')\n",
    "df_cnae = read_zip_csvs_as_df(f, encoding='latin1', verbose=True)"
   ]
  },
  {
   "cell_type": "code",
   "execution_count": 4,
   "id": "5a547764",
   "metadata": {},
   "outputs": [
    {
     "name": "stdout",
     "output_type": "stream",
     "text": [
      "Processando arquivo: /home/nicolas/github/unb/ppca_mdm/dados/2020T2_Dados_abertos_FGTS.zip\n",
      "Processando arquivo: /home/nicolas/github/unb/ppca_mdm/dados/2020T1_Dados_abertos_FGTS.zip\n"
     ]
    }
   ],
   "source": [
    "zip_files = find_zip_files_by_pattern(directory=f\"{project_root}/dados/\", pattern='FGTS.zip')\n",
    "all_dfs = []\n",
    "\n",
    "for f in zip_files:\n",
    "    print(f\"Processando arquivo: {f}\")\n",
    "    df = read_zip_csvs_as_df(f, encoding='latin1', verbose=False)\n",
    "    all_dfs.append(df)\n",
    "\n",
    "final_df = pd.concat(all_dfs, ignore_index=True)"
   ]
  },
  {
   "cell_type": "code",
   "execution_count": 5,
   "id": "b543e382",
   "metadata": {},
   "outputs": [
    {
     "name": "stdout",
     "output_type": "stream",
     "text": [
      "\n",
      "DataFrame Information:\n",
      "\n",
      "Shape: (882198, 16)\n",
      "\n",
      "Columns: ['CPF_CNPJ', 'TIPO_PESSOA', 'TIPO_DEVEDOR', 'NOME_DEVEDOR', 'UF_UNIDADE_RESPONSAVEL', 'UNIDADE_RESPONSAVEL', 'ENTIDADE_RESPONSAVEL', 'UNIDADE_INSCRICAO', 'NUMERO_INSCRICAO', 'TIPO_SITUACAO_INSCRICAO', 'SITUACAO_INSCRICAO', 'RECEITA_PRINCIPAL', 'DATA_INSCRICAO', 'INDICADOR_AJUIZADO', 'VALOR_CONSOLIDADO', '__source_file__']\n",
      "\n",
      "Data Types:\n",
      "CPF_CNPJ                    object\n",
      "TIPO_PESSOA                 object\n",
      "TIPO_DEVEDOR                object\n",
      "NOME_DEVEDOR                object\n",
      "UF_UNIDADE_RESPONSAVEL      object\n",
      "UNIDADE_RESPONSAVEL         object\n",
      "ENTIDADE_RESPONSAVEL        object\n",
      "UNIDADE_INSCRICAO           object\n",
      "NUMERO_INSCRICAO            object\n",
      "TIPO_SITUACAO_INSCRICAO     object\n",
      "SITUACAO_INSCRICAO          object\n",
      "RECEITA_PRINCIPAL           object\n",
      "DATA_INSCRICAO              object\n",
      "INDICADOR_AJUIZADO          object\n",
      "VALOR_CONSOLIDADO          float64\n",
      "__source_file__             object\n",
      "dtype: object\n",
      "\n",
      "Missing Values:\n",
      "CPF_CNPJ                        0\n",
      "TIPO_PESSOA                     0\n",
      "TIPO_DEVEDOR                    0\n",
      "NOME_DEVEDOR                    0\n",
      "UF_UNIDADE_RESPONSAVEL     326295\n",
      "UNIDADE_RESPONSAVEL             0\n",
      "ENTIDADE_RESPONSAVEL            0\n",
      "UNIDADE_INSCRICAO               0\n",
      "NUMERO_INSCRICAO                0\n",
      "TIPO_SITUACAO_INSCRICAO         0\n",
      "SITUACAO_INSCRICAO              0\n",
      "RECEITA_PRINCIPAL               0\n",
      "DATA_INSCRICAO                  0\n",
      "INDICADOR_AJUIZADO              0\n",
      "VALOR_CONSOLIDADO               0\n",
      "__source_file__                 0\n",
      "dtype: int64\n",
      "\n",
      "DataFrame Memory Usage: 833.95 MB\n",
      "\n",
      "DataFrame Size: 14115168 elements\n",
      "\n",
      "\n",
      ">DataFrame describe:\n",
      "        VALOR_CONSOLIDADO\n",
      "count       8.821980e+05\n",
      "mean        8.473197e+04\n",
      "std         7.639035e+05\n",
      "min         2.000000e-02\n",
      "25%         2.746440e+03\n",
      "50%         9.263790e+03\n",
      "75%         3.362635e+04\n",
      "max         1.530936e+08\n"
     ]
    }
   ],
   "source": [
    "dataframe_info(final_df)"
   ]
  },
  {
   "cell_type": "code",
   "execution_count": 68,
   "id": "86e63d25",
   "metadata": {},
   "outputs": [],
   "source": [
    "final_df['CPF_CNPJ'] = (\n",
    "    final_df['CPF_CNPJ']\n",
    "    .astype(str)\n",
    "    .str.replace(r'\\D', '', regex=True)\n",
    "    .where(final_df['CPF_CNPJ'].notna())\n",
    ")\n",
    "final_df[\"ANOMES\"] = final_df[\"__source_file__\"].str.extract(r'(\\d{6})')\n",
    "final_df[\"ORIGEM\"] = final_df[\"__source_file__\"].apply(extract_origem_from_filename)\n",
    "\n",
    "\n"
   ]
  },
  {
   "cell_type": "code",
   "execution_count": 7,
   "id": "81e162bd",
   "metadata": {},
   "outputs": [
    {
     "name": "stdout",
     "output_type": "stream",
     "text": [
      "\n",
      "CPF_CNPJs duplicados:\n",
      "CPF_CNPJ\n",
      "30477954000150    109\n",
      "61575775000180    108\n",
      "60477056000163     94\n",
      "96653894000198     90\n",
      "92219070000153     86\n",
      "                 ... \n",
      "26925503000161      2\n",
      "92635838000170      2\n",
      "42407429000148      2\n",
      "02795365000185      2\n",
      "06266303000137      2\n",
      "Name: count, Length: 241704, dtype: int64\n"
     ]
    }
   ],
   "source": [
    "cnpj_counts = final_df['CPF_CNPJ'].value_counts()\n",
    "duplicate_cnpjs = cnpj_counts[cnpj_counts > 1]\n",
    "print(f\"\\nCPF_CNPJs duplicados:\")\n",
    "print(duplicate_cnpjs)\n",
    "\n",
    "duplicate_rows = final_df[final_df['CPF_CNPJ'].isin(duplicate_cnpjs.index)]\n",
    "\n"
   ]
  },
  {
   "cell_type": "code",
   "execution_count": 8,
   "id": "af62fd51",
   "metadata": {},
   "outputs": [
    {
     "data": {
      "application/vnd.microsoft.datawrangler.viewer.v0+json": {
       "columns": [
        {
         "name": "index",
         "rawType": "int64",
         "type": "integer"
        },
        {
         "name": "CPF_CNPJ",
         "rawType": "object",
         "type": "string"
        },
        {
         "name": "TIPO_PESSOA",
         "rawType": "object",
         "type": "string"
        },
        {
         "name": "TIPO_DEVEDOR",
         "rawType": "object",
         "type": "string"
        },
        {
         "name": "NOME_DEVEDOR",
         "rawType": "object",
         "type": "string"
        },
        {
         "name": "UF_UNIDADE_RESPONSAVEL",
         "rawType": "object",
         "type": "unknown"
        },
        {
         "name": "UNIDADE_RESPONSAVEL",
         "rawType": "object",
         "type": "string"
        },
        {
         "name": "ENTIDADE_RESPONSAVEL",
         "rawType": "object",
         "type": "string"
        },
        {
         "name": "UNIDADE_INSCRICAO",
         "rawType": "object",
         "type": "string"
        },
        {
         "name": "NUMERO_INSCRICAO",
         "rawType": "object",
         "type": "string"
        },
        {
         "name": "TIPO_SITUACAO_INSCRICAO",
         "rawType": "object",
         "type": "string"
        },
        {
         "name": "SITUACAO_INSCRICAO",
         "rawType": "object",
         "type": "string"
        },
        {
         "name": "RECEITA_PRINCIPAL",
         "rawType": "object",
         "type": "string"
        },
        {
         "name": "DATA_INSCRICAO",
         "rawType": "object",
         "type": "string"
        },
        {
         "name": "INDICADOR_AJUIZADO",
         "rawType": "object",
         "type": "string"
        },
        {
         "name": "VALOR_CONSOLIDADO",
         "rawType": "float64",
         "type": "float"
        },
        {
         "name": "__source_file__",
         "rawType": "object",
         "type": "string"
        },
        {
         "name": "ANOMES",
         "rawType": "object",
         "type": "string"
        },
        {
         "name": "ORIGEM",
         "rawType": "object",
         "type": "string"
        }
       ],
       "conversionMethod": "pd.DataFrame",
       "ref": "31b9f41e-354a-4fee-a746-731058fb3064",
       "rows": [
        [
         "236634",
         "26925503000161",
         "Pessoa jurídica",
         "Principal",
         "J C IND E COMERCIO DE MATERIAIS ESPORTIVOS LTDA",
         null,
         "Não se Aplica",
         "CAIXA",
         "GOIAS",
         "FGGO199900108",
         "Em cobrança",
         "AJUIZADA",
         "Contribuições FGTS",
         "25/02/1999",
         "SIM",
         "10729.25",
         "arquivo_lai_FGTS_NA_202006.csv",
         "202006",
         "FGTS"
        ],
        [
         "698236",
         "26925503000161",
         "Pessoa jurídica",
         "Principal",
         "J C IND E COMERCIO DE MATERIAIS ESPORTIVOS LTDA",
         null,
         "Não se Aplica",
         "CAIXA",
         "GOIAS",
         "FGGO199900108",
         "Em cobrança",
         "AJUIZADA",
         "Contribuições FGTS",
         "25/02/1999",
         "SIM",
         "10653.48",
         "arquivo_lai_FGTS_NA_202002.csv",
         "202002",
         "FGTS"
        ]
       ],
       "shape": {
        "columns": 18,
        "rows": 2
       }
      },
      "text/html": [
       "<div>\n",
       "<style scoped>\n",
       "    .dataframe tbody tr th:only-of-type {\n",
       "        vertical-align: middle;\n",
       "    }\n",
       "\n",
       "    .dataframe tbody tr th {\n",
       "        vertical-align: top;\n",
       "    }\n",
       "\n",
       "    .dataframe thead th {\n",
       "        text-align: right;\n",
       "    }\n",
       "</style>\n",
       "<table border=\"1\" class=\"dataframe\">\n",
       "  <thead>\n",
       "    <tr style=\"text-align: right;\">\n",
       "      <th></th>\n",
       "      <th>CPF_CNPJ</th>\n",
       "      <th>TIPO_PESSOA</th>\n",
       "      <th>TIPO_DEVEDOR</th>\n",
       "      <th>NOME_DEVEDOR</th>\n",
       "      <th>UF_UNIDADE_RESPONSAVEL</th>\n",
       "      <th>UNIDADE_RESPONSAVEL</th>\n",
       "      <th>ENTIDADE_RESPONSAVEL</th>\n",
       "      <th>UNIDADE_INSCRICAO</th>\n",
       "      <th>NUMERO_INSCRICAO</th>\n",
       "      <th>TIPO_SITUACAO_INSCRICAO</th>\n",
       "      <th>SITUACAO_INSCRICAO</th>\n",
       "      <th>RECEITA_PRINCIPAL</th>\n",
       "      <th>DATA_INSCRICAO</th>\n",
       "      <th>INDICADOR_AJUIZADO</th>\n",
       "      <th>VALOR_CONSOLIDADO</th>\n",
       "      <th>__source_file__</th>\n",
       "      <th>ANOMES</th>\n",
       "      <th>ORIGEM</th>\n",
       "    </tr>\n",
       "  </thead>\n",
       "  <tbody>\n",
       "    <tr>\n",
       "      <th>236634</th>\n",
       "      <td>26925503000161</td>\n",
       "      <td>Pessoa jurídica</td>\n",
       "      <td>Principal</td>\n",
       "      <td>J C IND E COMERCIO DE MATERIAIS ESPORTIVOS LTDA</td>\n",
       "      <td>NaN</td>\n",
       "      <td>Não se Aplica</td>\n",
       "      <td>CAIXA</td>\n",
       "      <td>GOIAS</td>\n",
       "      <td>FGGO199900108</td>\n",
       "      <td>Em cobrança</td>\n",
       "      <td>AJUIZADA</td>\n",
       "      <td>Contribuições FGTS</td>\n",
       "      <td>25/02/1999</td>\n",
       "      <td>SIM</td>\n",
       "      <td>10729.25</td>\n",
       "      <td>arquivo_lai_FGTS_NA_202006.csv</td>\n",
       "      <td>202006</td>\n",
       "      <td>FGTS</td>\n",
       "    </tr>\n",
       "    <tr>\n",
       "      <th>698236</th>\n",
       "      <td>26925503000161</td>\n",
       "      <td>Pessoa jurídica</td>\n",
       "      <td>Principal</td>\n",
       "      <td>J C IND E COMERCIO DE MATERIAIS ESPORTIVOS LTDA</td>\n",
       "      <td>NaN</td>\n",
       "      <td>Não se Aplica</td>\n",
       "      <td>CAIXA</td>\n",
       "      <td>GOIAS</td>\n",
       "      <td>FGGO199900108</td>\n",
       "      <td>Em cobrança</td>\n",
       "      <td>AJUIZADA</td>\n",
       "      <td>Contribuições FGTS</td>\n",
       "      <td>25/02/1999</td>\n",
       "      <td>SIM</td>\n",
       "      <td>10653.48</td>\n",
       "      <td>arquivo_lai_FGTS_NA_202002.csv</td>\n",
       "      <td>202002</td>\n",
       "      <td>FGTS</td>\n",
       "    </tr>\n",
       "  </tbody>\n",
       "</table>\n",
       "</div>"
      ],
      "text/plain": [
       "              CPF_CNPJ      TIPO_PESSOA TIPO_DEVEDOR  \\\n",
       "236634  26925503000161  Pessoa jurídica    Principal   \n",
       "698236  26925503000161  Pessoa jurídica    Principal   \n",
       "\n",
       "                                           NOME_DEVEDOR  \\\n",
       "236634  J C IND E COMERCIO DE MATERIAIS ESPORTIVOS LTDA   \n",
       "698236  J C IND E COMERCIO DE MATERIAIS ESPORTIVOS LTDA   \n",
       "\n",
       "       UF_UNIDADE_RESPONSAVEL UNIDADE_RESPONSAVEL ENTIDADE_RESPONSAVEL  \\\n",
       "236634                    NaN       Não se Aplica                CAIXA   \n",
       "698236                    NaN       Não se Aplica                CAIXA   \n",
       "\n",
       "       UNIDADE_INSCRICAO NUMERO_INSCRICAO TIPO_SITUACAO_INSCRICAO  \\\n",
       "236634             GOIAS    FGGO199900108             Em cobrança   \n",
       "698236             GOIAS    FGGO199900108             Em cobrança   \n",
       "\n",
       "       SITUACAO_INSCRICAO   RECEITA_PRINCIPAL DATA_INSCRICAO  \\\n",
       "236634           AJUIZADA  Contribuições FGTS     25/02/1999   \n",
       "698236           AJUIZADA  Contribuições FGTS     25/02/1999   \n",
       "\n",
       "       INDICADOR_AJUIZADO  VALOR_CONSOLIDADO                 __source_file__  \\\n",
       "236634                SIM           10729.25  arquivo_lai_FGTS_NA_202006.csv   \n",
       "698236                SIM           10653.48  arquivo_lai_FGTS_NA_202002.csv   \n",
       "\n",
       "        ANOMES ORIGEM  \n",
       "236634  202006   FGTS  \n",
       "698236  202002   FGTS  "
      ]
     },
     "execution_count": 8,
     "metadata": {},
     "output_type": "execute_result"
    }
   ],
   "source": [
    "duplicate_rows.loc[duplicate_rows['CPF_CNPJ'] == '26925503000161']"
   ]
  },
  {
   "cell_type": "code",
   "execution_count": 9,
   "id": "faf76587",
   "metadata": {},
   "outputs": [
    {
     "name": "stdout",
     "output_type": "stream",
     "text": [
      "NUMERO_INSCRICAO\n",
      "FGTO201400143    2\n",
      "FGTO201500125    2\n",
      "FGTO201600378    2\n",
      "FGTO200800023    2\n",
      "FGTO201900063    2\n",
      "                ..\n",
      "FGAC201000057    2\n",
      "FGAC201000046    2\n",
      "FGAC201700422    2\n",
      "FGAC201100024    2\n",
      "FGAC201500072    2\n",
      "Name: count, Length: 436896, dtype: int64\n"
     ]
    }
   ],
   "source": [
    "count = final_df['NUMERO_INSCRICAO'].value_counts()\n",
    "duplicates = count[count > 1]\n",
    "print(duplicates)\n",
    "\n",
    "duplicate_rows = final_df[final_df['NUMERO_INSCRICAO'].isin(duplicates.index)]\n"
   ]
  },
  {
   "cell_type": "code",
   "execution_count": 10,
   "id": "d9018b25",
   "metadata": {},
   "outputs": [
    {
     "data": {
      "application/vnd.microsoft.datawrangler.viewer.v0+json": {
       "columns": [
        {
         "name": "index",
         "rawType": "int64",
         "type": "integer"
        },
        {
         "name": "CPF_CNPJ",
         "rawType": "object",
         "type": "string"
        },
        {
         "name": "TIPO_PESSOA",
         "rawType": "object",
         "type": "string"
        },
        {
         "name": "TIPO_DEVEDOR",
         "rawType": "object",
         "type": "string"
        },
        {
         "name": "NOME_DEVEDOR",
         "rawType": "object",
         "type": "string"
        },
        {
         "name": "UF_UNIDADE_RESPONSAVEL",
         "rawType": "object",
         "type": "string"
        },
        {
         "name": "UNIDADE_RESPONSAVEL",
         "rawType": "object",
         "type": "string"
        },
        {
         "name": "ENTIDADE_RESPONSAVEL",
         "rawType": "object",
         "type": "string"
        },
        {
         "name": "UNIDADE_INSCRICAO",
         "rawType": "object",
         "type": "string"
        },
        {
         "name": "NUMERO_INSCRICAO",
         "rawType": "object",
         "type": "string"
        },
        {
         "name": "TIPO_SITUACAO_INSCRICAO",
         "rawType": "object",
         "type": "string"
        },
        {
         "name": "SITUACAO_INSCRICAO",
         "rawType": "object",
         "type": "string"
        },
        {
         "name": "RECEITA_PRINCIPAL",
         "rawType": "object",
         "type": "string"
        },
        {
         "name": "DATA_INSCRICAO",
         "rawType": "object",
         "type": "string"
        },
        {
         "name": "INDICADOR_AJUIZADO",
         "rawType": "object",
         "type": "string"
        },
        {
         "name": "VALOR_CONSOLIDADO",
         "rawType": "float64",
         "type": "float"
        },
        {
         "name": "__source_file__",
         "rawType": "object",
         "type": "string"
        },
        {
         "name": "ANOMES",
         "rawType": "object",
         "type": "string"
        },
        {
         "name": "ORIGEM",
         "rawType": "object",
         "type": "string"
        }
       ],
       "conversionMethod": "pd.DataFrame",
       "ref": "445b2ed9-91db-417b-8678-6ce0821639ac",
       "rows": [
        [
         "440886",
         "10922861000180",
         "Pessoa jurídica",
         "Principal",
         "TEIXEIRA & PEREIRA LTDA",
         "TO",
         "TOCANTINS",
         "PGFN",
         "TOCANTINS",
         "FGTO201500125",
         "Em cobrança",
         "AJUIZADA",
         "Contribuições FGTS",
         "20/08/2015",
         "SIM",
         "8629.79",
         "arquivo_lai_FGTS_TO_202006.csv",
         "202006",
         "FGTS"
        ],
        [
         "880810",
         "10922861000180",
         "Pessoa jurídica",
         "Principal",
         "TEIXEIRA & PEREIRA LTDA",
         "TO",
         "TOCANTINS",
         "PGFN",
         "TOCANTINS",
         "FGTO201500125",
         "Em cobrança",
         "AJUIZADA",
         "Contribuições FGTS",
         "20/08/2015",
         "SIM",
         "8515.33",
         "arquivo_lai_FGTS_TO_202002.csv",
         "202002",
         "FGTS"
        ]
       ],
       "shape": {
        "columns": 18,
        "rows": 2
       }
      },
      "text/html": [
       "<div>\n",
       "<style scoped>\n",
       "    .dataframe tbody tr th:only-of-type {\n",
       "        vertical-align: middle;\n",
       "    }\n",
       "\n",
       "    .dataframe tbody tr th {\n",
       "        vertical-align: top;\n",
       "    }\n",
       "\n",
       "    .dataframe thead th {\n",
       "        text-align: right;\n",
       "    }\n",
       "</style>\n",
       "<table border=\"1\" class=\"dataframe\">\n",
       "  <thead>\n",
       "    <tr style=\"text-align: right;\">\n",
       "      <th></th>\n",
       "      <th>CPF_CNPJ</th>\n",
       "      <th>TIPO_PESSOA</th>\n",
       "      <th>TIPO_DEVEDOR</th>\n",
       "      <th>NOME_DEVEDOR</th>\n",
       "      <th>UF_UNIDADE_RESPONSAVEL</th>\n",
       "      <th>UNIDADE_RESPONSAVEL</th>\n",
       "      <th>ENTIDADE_RESPONSAVEL</th>\n",
       "      <th>UNIDADE_INSCRICAO</th>\n",
       "      <th>NUMERO_INSCRICAO</th>\n",
       "      <th>TIPO_SITUACAO_INSCRICAO</th>\n",
       "      <th>SITUACAO_INSCRICAO</th>\n",
       "      <th>RECEITA_PRINCIPAL</th>\n",
       "      <th>DATA_INSCRICAO</th>\n",
       "      <th>INDICADOR_AJUIZADO</th>\n",
       "      <th>VALOR_CONSOLIDADO</th>\n",
       "      <th>__source_file__</th>\n",
       "      <th>ANOMES</th>\n",
       "      <th>ORIGEM</th>\n",
       "    </tr>\n",
       "  </thead>\n",
       "  <tbody>\n",
       "    <tr>\n",
       "      <th>440886</th>\n",
       "      <td>10922861000180</td>\n",
       "      <td>Pessoa jurídica</td>\n",
       "      <td>Principal</td>\n",
       "      <td>TEIXEIRA &amp; PEREIRA LTDA</td>\n",
       "      <td>TO</td>\n",
       "      <td>TOCANTINS</td>\n",
       "      <td>PGFN</td>\n",
       "      <td>TOCANTINS</td>\n",
       "      <td>FGTO201500125</td>\n",
       "      <td>Em cobrança</td>\n",
       "      <td>AJUIZADA</td>\n",
       "      <td>Contribuições FGTS</td>\n",
       "      <td>20/08/2015</td>\n",
       "      <td>SIM</td>\n",
       "      <td>8629.79</td>\n",
       "      <td>arquivo_lai_FGTS_TO_202006.csv</td>\n",
       "      <td>202006</td>\n",
       "      <td>FGTS</td>\n",
       "    </tr>\n",
       "    <tr>\n",
       "      <th>880810</th>\n",
       "      <td>10922861000180</td>\n",
       "      <td>Pessoa jurídica</td>\n",
       "      <td>Principal</td>\n",
       "      <td>TEIXEIRA &amp; PEREIRA LTDA</td>\n",
       "      <td>TO</td>\n",
       "      <td>TOCANTINS</td>\n",
       "      <td>PGFN</td>\n",
       "      <td>TOCANTINS</td>\n",
       "      <td>FGTO201500125</td>\n",
       "      <td>Em cobrança</td>\n",
       "      <td>AJUIZADA</td>\n",
       "      <td>Contribuições FGTS</td>\n",
       "      <td>20/08/2015</td>\n",
       "      <td>SIM</td>\n",
       "      <td>8515.33</td>\n",
       "      <td>arquivo_lai_FGTS_TO_202002.csv</td>\n",
       "      <td>202002</td>\n",
       "      <td>FGTS</td>\n",
       "    </tr>\n",
       "  </tbody>\n",
       "</table>\n",
       "</div>"
      ],
      "text/plain": [
       "              CPF_CNPJ      TIPO_PESSOA TIPO_DEVEDOR             NOME_DEVEDOR  \\\n",
       "440886  10922861000180  Pessoa jurídica    Principal  TEIXEIRA & PEREIRA LTDA   \n",
       "880810  10922861000180  Pessoa jurídica    Principal  TEIXEIRA & PEREIRA LTDA   \n",
       "\n",
       "       UF_UNIDADE_RESPONSAVEL UNIDADE_RESPONSAVEL ENTIDADE_RESPONSAVEL  \\\n",
       "440886                     TO           TOCANTINS                 PGFN   \n",
       "880810                     TO           TOCANTINS                 PGFN   \n",
       "\n",
       "       UNIDADE_INSCRICAO NUMERO_INSCRICAO TIPO_SITUACAO_INSCRICAO  \\\n",
       "440886         TOCANTINS    FGTO201500125             Em cobrança   \n",
       "880810         TOCANTINS    FGTO201500125             Em cobrança   \n",
       "\n",
       "       SITUACAO_INSCRICAO   RECEITA_PRINCIPAL DATA_INSCRICAO  \\\n",
       "440886           AJUIZADA  Contribuições FGTS     20/08/2015   \n",
       "880810           AJUIZADA  Contribuições FGTS     20/08/2015   \n",
       "\n",
       "       INDICADOR_AJUIZADO  VALOR_CONSOLIDADO                 __source_file__  \\\n",
       "440886                SIM            8629.79  arquivo_lai_FGTS_TO_202006.csv   \n",
       "880810                SIM            8515.33  arquivo_lai_FGTS_TO_202002.csv   \n",
       "\n",
       "        ANOMES ORIGEM  \n",
       "440886  202006   FGTS  \n",
       "880810  202002   FGTS  "
      ]
     },
     "execution_count": 10,
     "metadata": {},
     "output_type": "execute_result"
    }
   ],
   "source": [
    "duplicate_rows.loc[duplicate_rows['NUMERO_INSCRICAO'] == 'FGTO201500125']"
   ]
  },
  {
   "cell_type": "code",
   "execution_count": 77,
   "id": "246968c1",
   "metadata": {},
   "outputs": [],
   "source": [
    "situacao_df = final_df[[\n",
    "    'NUMERO_INSCRICAO',\n",
    "    'ANOMES',\n",
    "    'SITUACAO_INSCRICAO'\n",
    "]].drop_duplicates().sort_values(by=['NUMERO_INSCRICAO', 'ANOMES'])\n",
    "\n",
    "situacao_df['SITUACAO_INSCRICAO_ANTERIOR'] = situacao_df.groupby('NUMERO_INSCRICAO')['SITUACAO_INSCRICAO'].shift(1)\n",
    "\n",
    "situacao_df['MUDOU_INSCRITA_PARA_AJUIZADA'] = (\n",
    "    (situacao_df['SITUACAO_INSCRICAO_ANTERIOR'] == 'INSCRITA') &\n",
    "    (situacao_df['SITUACAO_INSCRICAO'] == 'AJUIZADA')\n",
    ")\n",
    "\n",
    "situacao_df['MUDOU_PARA_AJUIZADA'] = (\n",
    "    (situacao_df['SITUACAO_INSCRICAO_ANTERIOR'] != 'AJUIZADA') &\n",
    "    (situacao_df['SITUACAO_INSCRICAO'] == 'AJUIZADA')\n",
    ")\n",
    "\n",
    "situacao_df = situacao_df[[\n",
    "    'NUMERO_INSCRICAO',\n",
    "    'MUDOU_PARA_AJUIZADA',\n",
    "    'SITUACAO_INSCRICAO_ANTERIOR',\n",
    "    'SITUACAO_INSCRICAO',\n",
    "    'ANOMES'\n",
    "]]\n",
    "\n"
   ]
  },
  {
   "cell_type": "code",
   "execution_count": null,
   "id": "086f1dbf",
   "metadata": {},
   "outputs": [],
   "source": [
    "situacao_df"
   ]
  },
  {
   "cell_type": "code",
   "execution_count": null,
   "id": "5c4a266d",
   "metadata": {},
   "outputs": [
    {
     "data": {
      "text/plain": [
       "<Figure size 2000x1000 with 0 Axes>"
      ]
     },
     "metadata": {},
     "output_type": "display_data"
    },
    {
     "data": {
      "image/png": "[encoded data removed]",
      "text/plain": [
       "<Figure size 640x480 with 1 Axes>"
      ]
     },
     "metadata": {},
     "output_type": "display_data"
    }
   ],
   "source": [
    "import pandas as pd\n",
    "import matplotlib.pyplot as plt\n",
    "\n",
    "# final_df['ANOMES'] = pd.to_datetime(final_df['ANOMES']).dt.year\n",
    "\n",
    "# Create proportion plot\n",
    "plt.figure(figsize=(20, 10))\n",
    "\n",
    "# Calculate proportions\n",
    "props = (final_df.groupby(['ANOMES', 'SITUACAO_INSCRICAO'])\n",
    "         .size()\n",
    "         .unstack()\n",
    "         .fillna(0)\n",
    "         .apply(lambda x: x/x.sum() * 100, axis=1))\n",
    "\n",
    "# Create stacked bar plot\n",
    "ax = props.plot(kind='bar', stacked=True)\n",
    "\n",
    "plt.title('Proporção de Situações por AnoMes', fontsize=14)\n",
    "plt.xlabel('AnoMes')\n",
    "plt.ylabel('Proporção (%)')\n",
    "\n",
    "# Rotate x-axis labels\n",
    "plt.xticks(rotation=90)\n",
    "\n",
    "# Add legend outside of plot\n",
    "plt.legend(title='Situação', bbox_to_anchor=(1.05, 1), loc='upper left')\n",
    "\n",
    "# Adjust layout to prevent label cutoff\n",
    "plt.tight_layout()\n",
    "\n",
    "plt.show()"
   ]
  },
  {
   "cell_type": "code",
   "execution_count": null,
   "id": "abe2bc47",
   "metadata": {},
   "outputs": [
    {
     "data": {
      "text/plain": [
       "<Figure size 2000x1000 with 0 Axes>"
      ]
     },
     "metadata": {},
     "output_type": "display_data"
    },
    {
     "data": {
      "image/png": "[encoded data removed]",
      "text/plain": [
       "<Figure size 640x480 with 1 Axes>"
      ]
     },
     "metadata": {},
     "output_type": "display_data"
    }
   ],
   "source": [
    "mudou_para_ajuizada = situacao_df[situacao_df['MUDOU_PARA_AJUIZADA'] == True]\n",
    "plt.figure(figsize=(20, 10))\n",
    "props = (mudou_para_ajuizada.groupby(['ANOMES', 'SITUACAO_INSCRICAO_ANTERIOR'])\n",
    "         .size()\n",
    "         .unstack()\n",
    "         .fillna(0)\n",
    "         .apply(lambda x: x/x.sum() * 100, axis=1))\n",
    "\n",
    "ax = props.plot(kind='bar', stacked=True)\n",
    "\n",
    "plt.title('Proporção de Situações que Mudaram para AJUIZADA por AnoMes', fontsize=14)\n",
    "plt.xlabel('AnoMes')\n",
    "plt.ylabel('Proporção (%)')\n",
    "\n",
    "plt.xticks(rotation=90)\n",
    "plt.legend(title='Situação Anterior', bbox_to_anchor=(1.05, 1), loc='upper left')\n",
    "\n",
    "plt.tight_layout()\n",
    "\n",
    "plt.show()"
   ]
  },
  {
   "cell_type": "code",
   "execution_count": 85,
   "id": "c6723377",
   "metadata": {},
   "outputs": [
    {
     "data": {
      "application/vnd.microsoft.datawrangler.viewer.v0+json": {
       "columns": [
        {
         "name": "index",
         "rawType": "int64",
         "type": "integer"
        },
        {
         "name": "SITUACAO_INSCRICAO",
         "rawType": "object",
         "type": "string"
        }
       ],
       "conversionMethod": "pd.DataFrame",
       "ref": "a08b33d1-6627-4501-8914-a9cb8e3ee840",
       "rows": [
        [
         "0",
         "INSCRITA"
        ],
        [
         "1",
         "AJUIZADA"
        ],
        [
         "90",
         "INSCR PARCELADA"
        ],
        [
         "219",
         "PETICIONADA"
        ],
        [
         "232",
         "AJUIZ PARCELADA"
        ],
        [
         "1949",
         "TRANSFERIDA"
        ],
        [
         "3124",
         "EMBARGADA"
        ],
        [
         "7302",
         "OUTROS INSCRITA"
        ],
        [
         "10425",
         "OUTROS AJUIZADA"
        ],
        [
         "78833",
         "ENC PROTESTO"
        ]
       ],
       "shape": {
        "columns": 1,
        "rows": 10
       }
      },
      "text/html": [
       "<div>\n",
       "<style scoped>\n",
       "    .dataframe tbody tr th:only-of-type {\n",
       "        vertical-align: middle;\n",
       "    }\n",
       "\n",
       "    .dataframe tbody tr th {\n",
       "        vertical-align: top;\n",
       "    }\n",
       "\n",
       "    .dataframe thead th {\n",
       "        text-align: right;\n",
       "    }\n",
       "</style>\n",
       "<table border=\"1\" class=\"dataframe\">\n",
       "  <thead>\n",
       "    <tr style=\"text-align: right;\">\n",
       "      <th></th>\n",
       "      <th>SITUACAO_INSCRICAO</th>\n",
       "    </tr>\n",
       "  </thead>\n",
       "  <tbody>\n",
       "    <tr>\n",
       "      <th>0</th>\n",
       "      <td>INSCRITA</td>\n",
       "    </tr>\n",
       "    <tr>\n",
       "      <th>1</th>\n",
       "      <td>AJUIZADA</td>\n",
       "    </tr>\n",
       "    <tr>\n",
       "      <th>90</th>\n",
       "      <td>INSCR PARCELADA</td>\n",
       "    </tr>\n",
       "    <tr>\n",
       "      <th>219</th>\n",
       "      <td>PETICIONADA</td>\n",
       "    </tr>\n",
       "    <tr>\n",
       "      <th>232</th>\n",
       "      <td>AJUIZ PARCELADA</td>\n",
       "    </tr>\n",
       "    <tr>\n",
       "      <th>1949</th>\n",
       "      <td>TRANSFERIDA</td>\n",
       "    </tr>\n",
       "    <tr>\n",
       "      <th>3124</th>\n",
       "      <td>EMBARGADA</td>\n",
       "    </tr>\n",
       "    <tr>\n",
       "      <th>7302</th>\n",
       "      <td>OUTROS INSCRITA</td>\n",
       "    </tr>\n",
       "    <tr>\n",
       "      <th>10425</th>\n",
       "      <td>OUTROS AJUIZADA</td>\n",
       "    </tr>\n",
       "    <tr>\n",
       "      <th>78833</th>\n",
       "      <td>ENC PROTESTO</td>\n",
       "    </tr>\n",
       "  </tbody>\n",
       "</table>\n",
       "</div>"
      ],
      "text/plain": [
       "      SITUACAO_INSCRICAO\n",
       "0               INSCRITA\n",
       "1               AJUIZADA\n",
       "90       INSCR PARCELADA\n",
       "219          PETICIONADA\n",
       "232      AJUIZ PARCELADA\n",
       "1949         TRANSFERIDA\n",
       "3124           EMBARGADA\n",
       "7302     OUTROS INSCRITA\n",
       "10425    OUTROS AJUIZADA\n",
       "78833       ENC PROTESTO"
      ]
     },
     "execution_count": 85,
     "metadata": {},
     "output_type": "execute_result"
    }
   ],
   "source": [
    "#ver situacao distinta\n",
    "unique_situacao = final_df[[\n",
    "    'SITUACAO_INSCRICAO'\n",
    "]].drop_duplicates()\n",
    "\n",
    "unique_situacao"
   ]
  },
  {
   "cell_type": "code",
   "execution_count": 86,
   "id": "4656457f",
   "metadata": {},
   "outputs": [
    {
     "name": "stdout",
     "output_type": "stream",
     "text": [
      "\n",
      "Counts by ANOMES:\n",
      "ANOMES                202002    202006\n",
      "SITUACAO_INSCRICAO                    \n",
      "AJUIZ PARCELADA       7509.0    7475.0\n",
      "AJUIZADA            346411.0  347505.0\n",
      "EMBARGADA              882.0     875.0\n",
      "ENC PROTESTO             3.0       2.0\n",
      "INSCR PARCELADA       3749.0    3736.0\n",
      "INSCRITA             75581.0   76929.0\n",
      "OUTROS AJUIZADA         70.0      70.0\n",
      "OUTROS INSCRITA         73.0      73.0\n",
      "PETICIONADA           7016.0    4208.0\n",
      "TRANSFERIDA             16.0      15.0\n",
      "\n",
      "Percentages by ANOMES:\n",
      "ANOMES              202002  202006\n",
      "SITUACAO_INSCRICAO                \n",
      "AJUIZ PARCELADA       1.70    1.70\n",
      "AJUIZADA             78.50   78.82\n",
      "EMBARGADA             0.20    0.20\n",
      "ENC PROTESTO          0.00    0.00\n",
      "INSCR PARCELADA       0.85    0.85\n",
      "INSCRITA             17.13   17.45\n",
      "OUTROS AJUIZADA       0.02    0.02\n",
      "OUTROS INSCRITA       0.02    0.02\n",
      "PETICIONADA           1.59    0.95\n",
      "TRANSFERIDA           0.00    0.00\n"
     ]
    }
   ],
   "source": [
    "# Get counts and proportions of each situation grouped by ANOMES\n",
    "summary_by_anomes = []\n",
    "\n",
    "for anomes in final_df['ANOMES'].unique():\n",
    "    df_anomes = final_df[final_df['ANOMES'] == anomes]\n",
    "    \n",
    "    situacao_counts = df_anomes['SITUACAO_INSCRICAO'].value_counts()\n",
    "    situacao_props = (situacao_counts / len(df_anomes) * 100).round(2)\n",
    "    \n",
    "    summary_df = pd.DataFrame({\n",
    "        'ANOMES': anomes,\n",
    "        'Count': situacao_counts,\n",
    "        'Percentage': situacao_props\n",
    "    })\n",
    "    \n",
    "    summary_by_anomes.append(summary_df)\n",
    "\n",
    "# Combine all summaries\n",
    "final_summary = pd.concat(summary_by_anomes)\n",
    "final_summary = final_summary.reset_index()\n",
    "final_summary = final_summary.pivot(index='SITUACAO_INSCRICAO', \n",
    "                                  columns='ANOMES', \n",
    "                                  values=['Count', 'Percentage'])\n",
    "\n",
    "# Display the results\n",
    "print(\"\\nCounts by ANOMES:\")\n",
    "print(final_summary['Count'])\n",
    "print(\"\\nPercentages by ANOMES:\")\n",
    "print(final_summary['Percentage'])"
   ]
  },
  {
   "cell_type": "code",
   "execution_count": 21,
   "id": "f3029cc4",
   "metadata": {},
   "outputs": [
    {
     "data": {
      "application/vnd.microsoft.datawrangler.viewer.v0+json": {
       "columns": [
        {
         "name": "index",
         "rawType": "int64",
         "type": "integer"
        },
        {
         "name": "SITUACAO_INSCRICAO_ANTERIOR",
         "rawType": "object",
         "type": "unknown"
        },
        {
         "name": "SITUACAO_INSCRICAO",
         "rawType": "object",
         "type": "string"
        }
       ],
       "conversionMethod": "pd.DataFrame",
       "ref": "cb36c032-6a59-42cc-84c6-13928fa4330c",
       "rows": [
        [
         "0",
         null,
         "AJUIZADA"
        ],
        [
         "1",
         "AJUIZADA",
         "AJUIZADA"
        ],
        [
         "2",
         null,
         "INSCRITA"
        ],
        [
         "3",
         "INSCRITA",
         "INSCRITA"
        ],
        [
         "4",
         null,
         "PETICIONADA"
        ],
        [
         "5",
         "PETICIONADA",
         "PETICIONADA"
        ],
        [
         "6",
         "PETICIONADA",
         "AJUIZADA"
        ],
        [
         "7",
         "INSCRITA",
         "AJUIZADA"
        ],
        [
         "8",
         "INSCRITA",
         "PETICIONADA"
        ],
        [
         "9",
         "PETICIONADA",
         "INSCRITA"
        ],
        [
         "10",
         null,
         "EMBARGADA"
        ],
        [
         "11",
         "EMBARGADA",
         "EMBARGADA"
        ],
        [
         "12",
         "INSCRITA",
         "EMBARGADA"
        ],
        [
         "13",
         null,
         "OUTROS INSCRITA"
        ],
        [
         "14",
         "OUTROS INSCRITA",
         "OUTROS INSCRITA"
        ],
        [
         "15",
         null,
         "INSCR PARCELADA"
        ],
        [
         "16",
         "INSCR PARCELADA",
         "INSCR PARCELADA"
        ],
        [
         "17",
         null,
         "AJUIZ PARCELADA"
        ],
        [
         "18",
         "AJUIZ PARCELADA",
         "AJUIZ PARCELADA"
        ],
        [
         "19",
         "INSCRITA",
         "INSCR PARCELADA"
        ],
        [
         "20",
         "AJUIZADA",
         "AJUIZ PARCELADA"
        ],
        [
         "21",
         null,
         "TRANSFERIDA"
        ],
        [
         "22",
         "TRANSFERIDA",
         "TRANSFERIDA"
        ],
        [
         "23",
         "AJUIZ PARCELADA",
         "AJUIZADA"
        ],
        [
         "24",
         "INSCR PARCELADA",
         "INSCRITA"
        ],
        [
         "25",
         "INSCRITA",
         "AJUIZ PARCELADA"
        ],
        [
         "26",
         null,
         "OUTROS AJUIZADA"
        ],
        [
         "27",
         "OUTROS AJUIZADA",
         "OUTROS AJUIZADA"
        ],
        [
         "28",
         "PETICIONADA",
         "AJUIZ PARCELADA"
        ],
        [
         "29",
         "PETICIONADA",
         "INSCR PARCELADA"
        ],
        [
         "30",
         "AJUIZADA",
         "PETICIONADA"
        ],
        [
         "31",
         "INSCR PARCELADA",
         "AJUIZADA"
        ],
        [
         "32",
         null,
         "ENC PROTESTO"
        ],
        [
         "33",
         "ENC PROTESTO",
         "ENC PROTESTO"
        ],
        [
         "34",
         "EMBARGADA",
         "AJUIZADA"
        ],
        [
         "35",
         "AJUIZADA",
         "INSCRITA"
        ]
       ],
       "shape": {
        "columns": 2,
        "rows": 36
       }
      },
      "text/html": [
       "<div>\n",
       "<style scoped>\n",
       "    .dataframe tbody tr th:only-of-type {\n",
       "        vertical-align: middle;\n",
       "    }\n",
       "\n",
       "    .dataframe tbody tr th {\n",
       "        vertical-align: top;\n",
       "    }\n",
       "\n",
       "    .dataframe thead th {\n",
       "        text-align: right;\n",
       "    }\n",
       "</style>\n",
       "<table border=\"1\" class=\"dataframe\">\n",
       "  <thead>\n",
       "    <tr style=\"text-align: right;\">\n",
       "      <th></th>\n",
       "      <th>SITUACAO_INSCRICAO_ANTERIOR</th>\n",
       "      <th>SITUACAO_INSCRICAO</th>\n",
       "    </tr>\n",
       "  </thead>\n",
       "  <tbody>\n",
       "    <tr>\n",
       "      <th>0</th>\n",
       "      <td>NaN</td>\n",
       "      <td>AJUIZADA</td>\n",
       "    </tr>\n",
       "    <tr>\n",
       "      <th>1</th>\n",
       "      <td>AJUIZADA</td>\n",
       "      <td>AJUIZADA</td>\n",
       "    </tr>\n",
       "    <tr>\n",
       "      <th>2</th>\n",
       "      <td>NaN</td>\n",
       "      <td>INSCRITA</td>\n",
       "    </tr>\n",
       "    <tr>\n",
       "      <th>3</th>\n",
       "      <td>INSCRITA</td>\n",
       "      <td>INSCRITA</td>\n",
       "    </tr>\n",
       "    <tr>\n",
       "      <th>4</th>\n",
       "      <td>NaN</td>\n",
       "      <td>PETICIONADA</td>\n",
       "    </tr>\n",
       "    <tr>\n",
       "      <th>5</th>\n",
       "      <td>PETICIONADA</td>\n",
       "      <td>PETICIONADA</td>\n",
       "    </tr>\n",
       "    <tr>\n",
       "      <th>6</th>\n",
       "      <td>PETICIONADA</td>\n",
       "      <td>AJUIZADA</td>\n",
       "    </tr>\n",
       "    <tr>\n",
       "      <th>7</th>\n",
       "      <td>INSCRITA</td>\n",
       "      <td>AJUIZADA</td>\n",
       "    </tr>\n",
       "    <tr>\n",
       "      <th>8</th>\n",
       "      <td>INSCRITA</td>\n",
       "      <td>PETICIONADA</td>\n",
       "    </tr>\n",
       "    <tr>\n",
       "      <th>9</th>\n",
       "      <td>PETICIONADA</td>\n",
       "      <td>INSCRITA</td>\n",
       "    </tr>\n",
       "    <tr>\n",
       "      <th>10</th>\n",
       "      <td>NaN</td>\n",
       "      <td>EMBARGADA</td>\n",
       "    </tr>\n",
       "    <tr>\n",
       "      <th>11</th>\n",
       "      <td>EMBARGADA</td>\n",
       "      <td>EMBARGADA</td>\n",
       "    </tr>\n",
       "    <tr>\n",
       "      <th>12</th>\n",
       "      <td>INSCRITA</td>\n",
       "      <td>EMBARGADA</td>\n",
       "    </tr>\n",
       "    <tr>\n",
       "      <th>13</th>\n",
       "      <td>NaN</td>\n",
       "      <td>OUTROS INSCRITA</td>\n",
       "    </tr>\n",
       "    <tr>\n",
       "      <th>14</th>\n",
       "      <td>OUTROS INSCRITA</td>\n",
       "      <td>OUTROS INSCRITA</td>\n",
       "    </tr>\n",
       "    <tr>\n",
       "      <th>15</th>\n",
       "      <td>NaN</td>\n",
       "      <td>INSCR PARCELADA</td>\n",
       "    </tr>\n",
       "    <tr>\n",
       "      <th>16</th>\n",
       "      <td>INSCR PARCELADA</td>\n",
       "      <td>INSCR PARCELADA</td>\n",
       "    </tr>\n",
       "    <tr>\n",
       "      <th>17</th>\n",
       "      <td>NaN</td>\n",
       "      <td>AJUIZ PARCELADA</td>\n",
       "    </tr>\n",
       "    <tr>\n",
       "      <th>18</th>\n",
       "      <td>AJUIZ PARCELADA</td>\n",
       "      <td>AJUIZ PARCELADA</td>\n",
       "    </tr>\n",
       "    <tr>\n",
       "      <th>19</th>\n",
       "      <td>INSCRITA</td>\n",
       "      <td>INSCR PARCELADA</td>\n",
       "    </tr>\n",
       "    <tr>\n",
       "      <th>20</th>\n",
       "      <td>AJUIZADA</td>\n",
       "      <td>AJUIZ PARCELADA</td>\n",
       "    </tr>\n",
       "    <tr>\n",
       "      <th>21</th>\n",
       "      <td>NaN</td>\n",
       "      <td>TRANSFERIDA</td>\n",
       "    </tr>\n",
       "    <tr>\n",
       "      <th>22</th>\n",
       "      <td>TRANSFERIDA</td>\n",
       "      <td>TRANSFERIDA</td>\n",
       "    </tr>\n",
       "    <tr>\n",
       "      <th>23</th>\n",
       "      <td>AJUIZ PARCELADA</td>\n",
       "      <td>AJUIZADA</td>\n",
       "    </tr>\n",
       "    <tr>\n",
       "      <th>24</th>\n",
       "      <td>INSCR PARCELADA</td>\n",
       "      <td>INSCRITA</td>\n",
       "    </tr>\n",
       "    <tr>\n",
       "      <th>25</th>\n",
       "      <td>INSCRITA</td>\n",
       "      <td>AJUIZ PARCELADA</td>\n",
       "    </tr>\n",
       "    <tr>\n",
       "      <th>26</th>\n",
       "      <td>NaN</td>\n",
       "      <td>OUTROS AJUIZADA</td>\n",
       "    </tr>\n",
       "    <tr>\n",
       "      <th>27</th>\n",
       "      <td>OUTROS AJUIZADA</td>\n",
       "      <td>OUTROS AJUIZADA</td>\n",
       "    </tr>\n",
       "    <tr>\n",
       "      <th>28</th>\n",
       "      <td>PETICIONADA</td>\n",
       "      <td>AJUIZ PARCELADA</td>\n",
       "    </tr>\n",
       "    <tr>\n",
       "      <th>29</th>\n",
       "      <td>PETICIONADA</td>\n",
       "      <td>INSCR PARCELADA</td>\n",
       "    </tr>\n",
       "    <tr>\n",
       "      <th>30</th>\n",
       "      <td>AJUIZADA</td>\n",
       "      <td>PETICIONADA</td>\n",
       "    </tr>\n",
       "    <tr>\n",
       "      <th>31</th>\n",
       "      <td>INSCR PARCELADA</td>\n",
       "      <td>AJUIZADA</td>\n",
       "    </tr>\n",
       "    <tr>\n",
       "      <th>32</th>\n",
       "      <td>NaN</td>\n",
       "      <td>ENC PROTESTO</td>\n",
       "    </tr>\n",
       "    <tr>\n",
       "      <th>33</th>\n",
       "      <td>ENC PROTESTO</td>\n",
       "      <td>ENC PROTESTO</td>\n",
       "    </tr>\n",
       "    <tr>\n",
       "      <th>34</th>\n",
       "      <td>EMBARGADA</td>\n",
       "      <td>AJUIZADA</td>\n",
       "    </tr>\n",
       "    <tr>\n",
       "      <th>35</th>\n",
       "      <td>AJUIZADA</td>\n",
       "      <td>INSCRITA</td>\n",
       "    </tr>\n",
       "  </tbody>\n",
       "</table>\n",
       "</div>"
      ],
      "text/plain": [
       "   SITUACAO_INSCRICAO_ANTERIOR SITUACAO_INSCRICAO\n",
       "0                          NaN           AJUIZADA\n",
       "1                     AJUIZADA           AJUIZADA\n",
       "2                          NaN           INSCRITA\n",
       "3                     INSCRITA           INSCRITA\n",
       "4                          NaN        PETICIONADA\n",
       "5                  PETICIONADA        PETICIONADA\n",
       "6                  PETICIONADA           AJUIZADA\n",
       "7                     INSCRITA           AJUIZADA\n",
       "8                     INSCRITA        PETICIONADA\n",
       "9                  PETICIONADA           INSCRITA\n",
       "10                         NaN          EMBARGADA\n",
       "11                   EMBARGADA          EMBARGADA\n",
       "12                    INSCRITA          EMBARGADA\n",
       "13                         NaN    OUTROS INSCRITA\n",
       "14             OUTROS INSCRITA    OUTROS INSCRITA\n",
       "15                         NaN    INSCR PARCELADA\n",
       "16             INSCR PARCELADA    INSCR PARCELADA\n",
       "17                         NaN    AJUIZ PARCELADA\n",
       "18             AJUIZ PARCELADA    AJUIZ PARCELADA\n",
       "19                    INSCRITA    INSCR PARCELADA\n",
       "20                    AJUIZADA    AJUIZ PARCELADA\n",
       "21                         NaN        TRANSFERIDA\n",
       "22                 TRANSFERIDA        TRANSFERIDA\n",
       "23             AJUIZ PARCELADA           AJUIZADA\n",
       "24             INSCR PARCELADA           INSCRITA\n",
       "25                    INSCRITA    AJUIZ PARCELADA\n",
       "26                         NaN    OUTROS AJUIZADA\n",
       "27             OUTROS AJUIZADA    OUTROS AJUIZADA\n",
       "28                 PETICIONADA    AJUIZ PARCELADA\n",
       "29                 PETICIONADA    INSCR PARCELADA\n",
       "30                    AJUIZADA        PETICIONADA\n",
       "31             INSCR PARCELADA           AJUIZADA\n",
       "32                         NaN       ENC PROTESTO\n",
       "33                ENC PROTESTO       ENC PROTESTO\n",
       "34                   EMBARGADA           AJUIZADA\n",
       "35                    AJUIZADA           INSCRITA"
      ]
     },
     "execution_count": 21,
     "metadata": {},
     "output_type": "execute_result"
    }
   ],
   "source": [
    "# Ver todas as mudanças possíveis de situação\n",
    "mudancas_possiveis = (\n",
    "    situacao_df[['SITUACAO_INSCRICAO_ANTERIOR', 'SITUACAO_INSCRICAO']]\n",
    "    .drop_duplicates()\n",
    "    .reset_index(drop=True)\n",
    ")\n",
    "\n",
    "mudancas_possiveis"
   ]
  },
  {
   "cell_type": "code",
   "execution_count": 75,
   "id": "78c5f503",
   "metadata": {},
   "outputs": [
    {
     "data": {
      "image/png": "[encoded data removed]",
      "text/plain": [
       "<Figure size 1400x1000 with 1 Axes>"
      ]
     },
     "metadata": {},
     "output_type": "display_data"
    }
   ],
   "source": [
    "import networkx as nx\n",
    "import matplotlib.pyplot as plt\n",
    "import pandas as pd\n",
    "from collections import Counter\n",
    "from networkx.drawing.nx_agraph import graphviz_layout\n",
    "\n",
    "# Criar grafo\n",
    "graph = nx.DiGraph()\n",
    "\n",
    "# Contar transições\n",
    "transicoes = Counter()\n",
    "for _, row in mudancas_possiveis.iterrows():\n",
    "    if pd.notna(row['SITUACAO_INSCRICAO_ANTERIOR']) and pd.notna(row['SITUACAO_INSCRICAO']):\n",
    "        origem = row['SITUACAO_INSCRICAO_ANTERIOR']\n",
    "        destino = row['SITUACAO_INSCRICAO']\n",
    "        transicoes[(origem, destino)] += 1\n",
    "\n",
    "# Aresta mais frequente\n",
    "transicao_top = max(transicoes, key=transicoes.get)\n",
    "\n",
    "# Adiciona as arestas ao grafo\n",
    "for (origem, destino), peso in transicoes.items():\n",
    "    graph.add_edge(origem, destino, weight=peso)\n",
    "\n",
    "# Layout\n",
    "pos = graphviz_layout(graph, prog='dot')\n",
    "\n",
    "# Cores dos nós\n",
    "out_degrees = dict(graph.out_degree())\n",
    "node_colors = [out_degrees[node] for node in graph.nodes]\n",
    "\n",
    "# Preparar dados das arestas\n",
    "edge_colors = []\n",
    "edge_widths = []\n",
    "edge_arrows = []\n",
    "\n",
    "for u, v in graph.edges():\n",
    "    if (u, v) == transicao_top:\n",
    "        edge_colors.append('darkgreen')   # Destaque máximo\n",
    "        edge_widths.append(4.5)\n",
    "        edge_arrows.append(35)\n",
    "    elif graph[u][v]['weight'] >= 10:\n",
    "        edge_colors.append('crimson')     # Destaque intermediário\n",
    "        edge_widths.append(2.5)\n",
    "        edge_arrows.append(25)\n",
    "    else:\n",
    "        edge_colors.append('lightgray')   # Transições comuns\n",
    "        edge_widths.append(1.5)\n",
    "        edge_arrows.append(20)\n",
    "\n",
    "plt.figure(figsize=(14, 10))\n",
    "\n",
    "# Nós\n",
    "nx.draw_networkx_nodes(\n",
    "    graph, pos,\n",
    "    node_size=10000,\n",
    "    node_color=node_colors,\n",
    "    cmap=plt.cm.BuGn,\n",
    "    edgecolors='black',\n",
    "    linewidths=1\n",
    ")\n",
    "\n",
    "# Desenhar arestas com personalização individual\n",
    "for i, (u, v) in enumerate(graph.edges()):\n",
    "    nx.draw_networkx_edges(\n",
    "        graph, pos,\n",
    "        edgelist=[(u, v)],\n",
    "        arrowstyle='-|>',\n",
    "        arrowsize=edge_arrows[i],\n",
    "        width=edge_widths[i],\n",
    "        edge_color=edge_colors[i],\n",
    "        connectionstyle='arc3,rad=0.1'\n",
    "    )\n",
    "\n",
    "# Rótulos dos nós\n",
    "nx.draw_networkx_labels(graph, pos, font_size=10, font_weight=\"bold\")\n",
    "\n",
    "plt.title(\"Transições de Situação (Maior Frequência em Verde Escuro)\", fontsize=14)\n",
    "plt.axis('off')\n",
    "plt.tight_layout()\n",
    "plt.show()\n"
   ]
  },
  {
   "cell_type": "code",
   "execution_count": null,
   "id": "d1eac9b4",
   "metadata": {},
   "outputs": [
    {
     "name": "stderr",
     "output_type": "stream",
     "text": [
      "/tmp/ipykernel_296769/1365916510.py:44: MatplotlibDeprecationWarning:\n",
      "\n",
      "The get_cmap function was deprecated in Matplotlib 3.7 and will be removed in 3.11. Use ``matplotlib.colormaps[name]`` or ``matplotlib.colormaps.get_cmap()`` or ``pyplot.get_cmap()`` instead.\n",
      "\n"
     ]
    }
   ],
   "source": [
    "import networkx as nx\n",
    "import pandas as pd\n",
    "import plotly.graph_objects as go\n",
    "from collections import Counter\n",
    "from networkx.drawing.nx_agraph import graphviz_layout\n",
    "import matplotlib.cm as cm\n",
    "import matplotlib.colors as mcolors\n",
    "import random  # Importa a biblioteca random\n",
    "\n",
    "# ======= CONFIGURAÇÕES =======\n",
    "limite_transicoes = 1  # Mostra apenas transições com pelo menos esse número\n",
    "usar_grupos = True     # Define se os nós devem ser coloridos por grupo\n",
    "\n",
    "# EXEMPLO: Supondo que você tenha um DataFrame com colunas:\n",
    "# 'SITUACAO_INSCRICAO_ANTERIOR', 'SITUACAO_INSCRICAO', 'GRUPO_SITUACAO' (opcional)\n",
    "# Se não tiver grupo, criaremos um por padrão\n",
    "if 'GRUPO_SITUACAO' not in mudancas_possiveis.columns:\n",
    "    mudancas_possiveis['GRUPO_SITUACAO'] = mudancas_possiveis['SITUACAO_INSCRICAO']\n",
    "\n",
    "# Criar grafo\n",
    "G = nx.DiGraph()\n",
    "transicoes = Counter()\n",
    "\n",
    "for _, row in mudancas_possiveis.iterrows():\n",
    "    origem = row['SITUACAO_INSCRICAO_ANTERIOR']\n",
    "    destino = row['SITUACAO_INSCRICAO']\n",
    "    if pd.notna(origem) and pd.notna(destino):\n",
    "        transicoes[(origem, destino)] += 1\n",
    "\n",
    "# Adicionar arestas com pesos acima do limite\n",
    "for (origem, destino), peso in transicoes.items():\n",
    "    if peso >= limite_transicoes:\n",
    "        G.add_edge(origem, destino, weight=peso)\n",
    "\n",
    "# Verifica quais nós ainda estão presentes\n",
    "nos_validos = set(G.nodes())\n",
    "\n",
    "# Criar dicionário de grupos\n",
    "grupos_dict = mudancas_possiveis.set_index('SITUACAO_INSCRICAO')['GRUPO_SITUACAO'].to_dict()\n",
    "grupos_nos = {n: grupos_dict.get(n, 'Desconhecido') for n in G.nodes()}\n",
    "\n",
    "# Codificar cores por grupo\n",
    "grupos_unicos = sorted(set(grupos_nos.values()))\n",
    "cmap = cm.get_cmap('tab10', len(grupos_unicos))\n",
    "cores_grupo = {grupo: mcolors.to_hex(cmap(i)) for i, grupo in enumerate(grupos_unicos)}\n",
    "\n",
    "# Layout com Graphviz para hierarquia (prog='dot' já é adequado para isso)\n",
    "pos = graphviz_layout(G, prog='dot')\n",
    "\n",
    "# Criar nós\n",
    "node_x, node_y, node_text, node_colors = [], [], [], []\n",
    "\n",
    "for node in G.nodes():\n",
    "    x, y = pos[node]\n",
    "    node_x.append(x)\n",
    "    node_y.append(-y)\n",
    "    node_text.append(f\"{node}<br>Grupo: {grupos_nos[node]}\")\n",
    "    node_colors.append(cores_grupo[grupos_nos[node]])\n",
    "\n",
    "node_trace = go.Scatter(\n",
    "    x=node_x, y=node_y,\n",
    "    mode='markers+text',\n",
    "    text=node_text,\n",
    "    textposition='bottom center',\n",
    "    hoverinfo='text',\n",
    "    marker=dict(\n",
    "        color=node_colors,\n",
    "        size=100,  # Aumenta o tamanho do nó (bola)\n",
    "        line=dict(color='black', width=2)\n",
    "    )\n",
    ")\n",
    "\n",
    "# Criar arestas\n",
    "edge_traces = []\n",
    "annotations = []\n",
    "\n",
    "# Determina a transição mais frequente\n",
    "transicao_top = max(transicoes.items(), key=lambda x: x[1] if x[0] in G.edges else -1)[0]\n",
    "\n",
    "for u, v in G.edges():\n",
    "    x0, y0 = pos[u]\n",
    "    x1, y1 = pos[v]\n",
    "    y0, y1 = -y0, -y1\n",
    "    peso = G[u][v]['weight']\n",
    "\n",
    "    # Cor da seta baseada no nó de origem\n",
    "    cor_origem = cores_grupo[grupos_nos[u]]  # Cor do nó de origem (u)\n",
    "    width = 1.5  # Define a espessura da seta\n",
    "\n",
    "    # Afastar as setas para fora dos nós com offset aleatório\n",
    "    offset = random.uniform(1, 5)  # Gera um valor aleatório entre 1 e 5\n",
    "\n",
    "    # Nova posição para as setas\n",
    "    x0 += offset\n",
    "    y0 += offset\n",
    "    x1 += offset\n",
    "    y1 += offset\n",
    "\n",
    "    # Adiciona arestas com a cor correspondente ao nó de origem\n",
    "    edge_traces.append(go.Scatter(\n",
    "        x=[x0, x1, None],\n",
    "        y=[y0, y1, None],\n",
    "        mode='lines',\n",
    "        line=dict(color=cor_origem, width=width),\n",
    "        hoverinfo='text',\n",
    "        text=[f\"{u} → {v}<br>Transições: {peso}\"]\n",
    "    ))\n",
    "\n",
    "    # Adiciona setas fora dos nós, com a cor do nó de origem\n",
    "    annotations.append(dict(\n",
    "        ax=x0, ay=y0,\n",
    "        x=x1, y=y1,\n",
    "        xref='x', yref='y',\n",
    "        axref='x', ayref='y',\n",
    "        showarrow=True,\n",
    "        arrowhead=2,    # Tamanho da ponta da seta\n",
    "        arrowsize=2,    # Aumenta o tamanho da seta\n",
    "        arrowwidth=2,   # Aumenta a largura da seta\n",
    "        arrowcolor=cor_origem,  # Cor da seta igual ao nó de origem\n",
    "        opacity=0.8\n",
    "    ))\n",
    "\n",
    "# Layout do gráfico\n",
    "fig = go.Figure(\n",
    "    data=edge_traces + [node_trace],\n",
    "    layout=go.Layout(\n",
    "        title=dict(text=f'Transições de Situação (≥ {limite_transicoes} ocorrências)', font=dict(size=16)),\n",
    "        showlegend=False,\n",
    "        hovermode='closest',\n",
    "        margin=dict(b=20, l=5, r=5, t=40),\n",
    "        xaxis=dict(showgrid=False, zeroline=False, showticklabels=False),\n",
    "        yaxis=dict(showgrid=False, zeroline=False, showticklabels=False),\n",
    "        annotations=annotations\n",
    "    )\n",
    ")\n",
    "\n",
    "# Salvar o gráfico como arquivo HTML\n",
    "fig.write_html(\"grafo_interativo.html\")\n"
   ]
  },
  {
   "cell_type": "markdown",
   "id": "79cb4c7f",
   "metadata": {},
   "source": [
    "## Preparação dos Dados (Data Preparation)\n",
    "\n",
    "`Transformação dos dados brutos em um conjunto limpo e estruturado, adequado para modelagem. Inclui limpeza, seleção de atributos, engenharia de variáveis etc.`"
   ]
  },
  {
   "cell_type": "markdown",
   "id": "12384df0",
   "metadata": {},
   "source": [
    "## Modelagem (Modeling)\n",
    "\n",
    "`Aplicação de algoritmos de aprendizado de máquina ou estatísticos nos dados preparados. Envolve escolha de modelos, parametrização e validação.`"
   ]
  },
  {
   "cell_type": "markdown",
   "id": "8ddc5b4a",
   "metadata": {},
   "source": [
    "Árvores de Decisão ou Random Forest: Modelos robustos para problemas de classificação, que podem lidar bem com variáveis categóricas e numéricas.\n",
    "\n",
    "Regressão Logística: Um modelo simples que pode ser útil para previsões binárias, como se a dívida será ajuizada ou não.\n",
    "\n",
    "XGBoost: Um modelo de árvore de decisão mais avançado, frequentemente usado para classificações de alta performance."
   ]
  },
  {
   "cell_type": "markdown",
   "id": "cfb3140f",
   "metadata": {},
   "source": [
    "## Avaliação (Evaluation)\n",
    "\n",
    "`Verificação se o modelo atende aos objetivos definidos na fase de entendimento do negócio. Pode incluir`métricas quantitativas e feedback qualitativo.`"
   ]
  },
  {
   "cell_type": "markdown",
   "id": "65198ea3",
   "metadata": {},
   "source": [
    "## Implantação (Deployment)\n",
    "\n",
    "`Colocação do modelo em uso no ambiente real. Pode ser um relatório, uma aplicação interativa ou uma integração em sistema.`"
   ]
  }
 ],
 "metadata": {
  "kernelspec": {
   "display_name": "venv",
   "language": "python",
   "name": "python3"
  },
  "language_info": {
   "codemirror_mode": {
    "name": "ipython",
    "version": 3
   },
   "file_extension": ".py",
   "mimetype": "text/x-python",
   "name": "python",
   "nbconvert_exporter": "python",
   "pygments_lexer": "ipython3",
   "version": "3.12.3"
  }
 },
 "nbformat": 4,
 "nbformat_minor": 5
}
