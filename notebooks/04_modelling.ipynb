{
 "cells": [
  {
   "cell_type": "markdown",
   "id": "497e2f76",
   "metadata": {},
   "source": [
    "# Modelo Preditivo CARF"
   ]
  },
  {
   "cell_type": "markdown",
   "id": "ea6e4a44",
   "metadata": {},
   "source": [
    "## Modelagem (Modeling)\n",
    "\n",
    "`Aplicação de algoritmos de aprendizado de máquina ou estatísticos nos dados preparados. Envolve escolha de modelos, parametrização e validação.`"
   ]
  },
  {
   "cell_type": "code",
   "execution_count": null,
   "id": "3767de82",
   "metadata": {
    "vscode": {
     "languageId": "plaintext"
    }
   },
   "outputs": [],
   "source": []
  },
  {
   "cell_type": "markdown",
   "id": "5c02de8d",
   "metadata": {},
   "source": [
    "Árvores de Decisão ou Random Forest: Modelos robustos para problemas de classificação, que podem lidar bem com variáveis categóricas e numéricas.\n",
    "\n",
    "Regressão Logística: Um modelo simples que pode ser útil para previsões binárias, como se a dívida será ajuizada ou não.\n",
    "\n",
    "XGBoost: Um modelo de árvore de decisão mais avançado, frequentemente usado para classificações de alta performance."
   ]
  }
 ],
 "metadata": {
  "kernelspec": {
   "display_name": "venv",
   "language": "python",
   "name": "python3"
  },
  "language_info": {
   "codemirror_mode": {
    "name": "ipython",
    "version": 3
   },
   "file_extension": ".py",
   "mimetype": "text/x-python",
   "name": "python",
   "nbconvert_exporter": "python",
   "pygments_lexer": "ipython3",
   "version": "3.12.3"
  }
 },
 "nbformat": 4,
 "nbformat_minor": 5
}
