{
 "cells": [
  {
   "cell_type": "markdown",
   "id": "497e2f76",
   "metadata": {},
   "source": [
    "# Modelo Preditivo CARF"
   ]
  },
  {
   "cell_type": "markdown",
   "id": "ba46a606",
   "metadata": {},
   "source": [
    "## Implantação (Deployment)\n",
    "\n",
    "`Colocação do modelo em uso no ambiente real. Pode ser um relatório, uma aplicação interativa ou uma integração em sistema.`"
   ]
  },
  {
   "cell_type": "code",
   "execution_count": null,
   "id": "3767de82",
   "metadata": {
    "vscode": {
     "languageId": "plaintext"
    }
   },
   "outputs": [],
   "source": []
  }
 ],
 "metadata": {
  "kernelspec": {
   "display_name": "venv",
   "language": "python",
   "name": "python3"
  },
  "language_info": {
   "codemirror_mode": {
    "name": "ipython",
    "version": 3
   },
   "file_extension": ".py",
   "mimetype": "text/x-python",
   "name": "python",
   "nbconvert_exporter": "python",
   "pygments_lexer": "ipython3",
   "version": "3.12.3"
  }
 },
 "nbformat": 4,
 "nbformat_minor": 5
}
