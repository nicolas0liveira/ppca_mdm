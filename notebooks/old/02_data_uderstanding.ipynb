{
 "cells": [
  {
   "cell_type": "markdown",
   "id": "b74a5f21",
   "metadata": {},
   "source": [
    "## Entendimento dos Dados (Data Understanding)\n",
    "\n",
    "`Coleta inicial dos dados, familiarização com eles, identificação de problemas de qualidade, e geração de hipóteses iniciais.`\n"
   ]
  },
  {
   "cell_type": "markdown",
   "id": "fe0e2aaf",
   "metadata": {},
   "source": [
    "### Dados Abertos"
   ]
  },
  {
   "cell_type": "markdown",
   "id": "fc9157cf",
   "metadata": {},
   "source": [
    "Como fontes e dados possíveis, temos:\n",
    "\n",
    "* Dados abertos da PGFN, disponíveis em <https://www.gov.br/pgfn/pt-br/assuntos/divida-ativa-da-uniao/transparencia-fiscal-1/dados-abertos>\n",
    "* Dados abertos da Receita (base CNPJ), disponíveis em <https://dados.gov.br/dados/conjuntos-dados/cadastro-nacional-da-pessoa-juridica---cnpj>\n",
    "\n",
    "#### PGFN\n",
    "\n",
    "* **FGTS:** Refere-se a débitos de empregadores com o fundo de garantia.\n",
    "* **PREV (Previdenciário):** Débitos de contribuições previdenciárias.\n",
    "* **SIDA:** Conjunto de dados do sistema unificado da administração federal, com dados detalhados sobre devedores e sua situação perante a União.\n",
    "\n",
    "Layout dos arquivos:\n",
    "\n",
    "➜ FGTS PREV e SIDA\n",
    "| Campo                     | Descrição                                                                 |\n",
    "|---------------------------|---------------------------------------------------------------------------|\n",
    "| CPF_CNPJ                  | CPF ou CNPJ do devedor inscrito na dívida ativa.                         |\n",
    "| TIPO_PESSOA               | Indica se o devedor é pessoa física (F) ou jurídica (J).                 |\n",
    "| TIPO_DEVEDOR              | Categoria do devedor: contribuinte individual, empresa, órgão público etc. |\n",
    "| NOME_DEVEDOR              | Nome ou razão social do devedor.                                         |\n",
    "| UF_DEVEDOR                | Unidade da Federação (estado) do devedor.                               |\n",
    "| UNIDADE_RESPONSAVEL       | Unidade da PGFN responsável pela inscrição da dívida.                   |\n",
    "| NUMERO_INSCRICAO          | Número único da inscrição da dívida ativa.                              |\n",
    "| TIPO_SITUACAO_INSCRICAO   | Tipo da situação da inscrição: ativa, suspensa, extinta etc.            |\n",
    "| SITUACAO_INSCRICAO        | Descrição detalhada da situação atual da dívida.                        |\n",
    "| TIPO_CREDITO              | Tipo de crédito tributário ou não tributário (ex: FGTS, Multas).        |\n",
    "| DATA_INSCRICAO            | Data da inscrição na dívida ativa.                                      |\n",
    "| INDICADOR_AJUIZADO        | Indica se a dívida foi ajuizada: 'S' ou 'N'.                            |\n",
    "| VALOR_CONSOLIDADO         | Valor total da dívida com acréscimos legais.                            |\n",
    "\n",
    "➜ FGTS\n",
    "| Campo                  | Descrição                                           |\n",
    "|------------------------|---------------------------------------------------|\n",
    "| ENTIDADE_RESPONSAVEL   | Entidade que gerou a inscrição do débito FGTS.    |\n",
    "| UNIDADE_INSCRICAO      | Unidade/agência que realizou a inscrição do débito FGTS. |\n",
    "\n",
    "\n",
    "\n",
    "#### CNPJ (Receita) \n",
    "\n",
    "**ideias:**\n",
    "UF_DEVEDOR: tentar análise geográfica, indicando que alguns estados têm mais devedores. baixar dados do IBGE\n",
    "UNIDADE_RESPONSAVEL: tentar analisar a carga de dívidas por unidade da PGFN.\n",
    "SITUACAO_INSCRICAO: será que o status da dívida e como isso impacta a cobrança ou ajuizamento.\n",
    "TIPO_CREDITO: tentar ver risco associado a diferentes tipos de crédito.\n",
    "\n",
    "Tentar juntar com CNAE"
   ]
  },
  {
   "cell_type": "markdown",
   "id": "1333f388",
   "metadata": {},
   "source": [
    "### Exploratory"
   ]
  },
  {
   "cell_type": "code",
   "execution_count": null,
   "id": "a2a6a9f5",
   "metadata": {},
   "outputs": [],
   "source": [
    "import sys\n",
    "import os\n",
    "\n",
    "import networkx as nx\n",
    "from collections import Counter\n",
    "from networkx.drawing.nx_agraph import graphviz_layout\n",
    "\n",
    "project_root = os.path.abspath(os.path.join(os.getcwd(), '..'))\n",
    "if project_root not in sys.path:\n",
    "    sys.path.append(project_root)\n",
    "\n",
    "from modules.utils.file import (\n",
    "        find_zip_files_by_pattern,\n",
    "        read_zip_csvs_as_df,\n",
    "        extract_origem_from_filename\n",
    ")\n",
    "\n",
    "from modules.utils.dataframe import (\n",
    "    dataframe_info\n",
    ")\n",
    "\n",
    "from modules.utils.plot.style import ( \n",
    "    set_plot_style,\n",
    ")\n",
    "\n",
    "from modules.utils.plot.save import ( \n",
    "    save_figure\n",
    ")\n",
    "\n",
    "import pandas as pd\n",
    "import matplotlib.pyplot as plt\n",
    "import seaborn as sns\n",
    "\n",
    "pd.options.display.float_format = '{:,.2f}'.format\n",
    "set_plot_style()\n",
    "os.makedirs('reports/figures', exist_ok=True)"
   ]
  },
  {
   "cell_type": "markdown",
   "id": "9505c7ad",
   "metadata": {},
   "source": [
    "#### Load Data "
   ]
  },
  {
   "cell_type": "code",
   "execution_count": null,
   "id": "5a547764",
   "metadata": {},
   "outputs": [],
   "source": [
    "zip_files = find_zip_files_by_pattern(directory=f\"{project_root}/dados/\", pattern='FGTS.zip')\n",
    "all_dfs = []\n",
    "\n",
    "for f in zip_files:\n",
    "    print(f\"Processando arquivo: {f}\")\n",
    "    df = read_zip_csvs_as_df(f, encoding='latin1', verbose=False)\n",
    "    all_dfs.append(df)\n",
    "\n",
    "dadosDF = pd.concat(all_dfs, ignore_index=True)"
   ]
  },
  {
   "cell_type": "code",
   "execution_count": null,
   "id": "b543e382",
   "metadata": {},
   "outputs": [],
   "source": [
    "dadosDF['CPF_CNPJ'] = (\n",
    "    dadosDF['CPF_CNPJ']\n",
    "    .astype(str)\n",
    "    .str.replace(r'\\D', '', regex=True)\n",
    "    .where(dadosDF['CPF_CNPJ'].notna())\n",
    ")\n",
    "dadosDF['DATA_INSCRICAO'] = pd.to_datetime(dadosDF['DATA_INSCRICAO'], format=\"%d/%m/%Y\", errors='coerce')\n",
    "\n",
    "dataframe_info(dadosDF)"
   ]
  },
  {
   "cell_type": "markdown",
   "id": "4eb2275d",
   "metadata": {},
   "source": [
    "#### Variáveis Categóricas"
   ]
  },
  {
   "cell_type": "markdown",
   "id": "f58c581c",
   "metadata": {},
   "source": [
    "##### Avaliando Indicador Ajuizado (Análise Bivariada)"
   ]
  },
  {
   "cell_type": "code",
   "execution_count": null,
   "id": "d9fa23eb",
   "metadata": {},
   "outputs": [],
   "source": [
    "df = dadosDF"
   ]
  },
  {
   "cell_type": "markdown",
   "id": "5ea9b309",
   "metadata": {},
   "source": [
    "##### Proporção por Indicador Ajuizado"
   ]
  },
  {
   "cell_type": "code",
   "execution_count": null,
   "id": "2d363ce0",
   "metadata": {},
   "outputs": [],
   "source": [
    "proporcao = (\n",
    "    df['INDICADOR_AJUIZADO']\n",
    "    .astype(str)\n",
    "    .str.strip()\n",
    "    .str.upper()\n",
    "    .replace({'NÃO': 'NAO', 'SIM': 'SIM'})  # garante correspondência com cmap\n",
    "    .value_counts(normalize=True) * 100\n",
    ")\n",
    "proporcao"
   ]
  },
  {
   "cell_type": "code",
   "execution_count": null,
   "id": "361b4fe1",
   "metadata": {},
   "outputs": [],
   "source": [
    "categorias = proporcao.index.tolist()\n",
    "valores = proporcao.values\n",
    "\n",
    "cmap = {\n",
    "    'SIM': '#1b9e77',\n",
    "    'NAO': '#d95f02',\n",
    "}\n",
    "cores = [cmap.get(v, '#333') for v in categorias] \n",
    "\n",
    "fig, axs = plt.subplots(1, 2, figsize=(12, 5))\n",
    "\n",
    "# Gráfico de barras\n",
    "axs[0].bar(categorias, valores, color=cores)\n",
    "axs[0].set_title(\"Proporção (Barra)\")\n",
    "axs[0].set_ylabel(\"Porcentagem (%)\")\n",
    "axs[0].set_xlabel(\"INDICADOR_AJUIZADO\")\n",
    "\n",
    "# Gráfico de pizza\n",
    "axs[1].pie(valores, labels=categorias, autopct='%1.1f%%', startangle=90, colors=cores)\n",
    "axs[1].axis('equal')  # Para pizza redonda\n",
    "axs[1].set_title(\"Proporção (Pizza)\")\n",
    "\n",
    "fig.suptitle(\"Distribuição de INDICADOR_AJUIZADO\", fontsize=14)\n",
    "\n",
    "save_figure(fig, \"distribuicao_indicador_ajuizado\", formats=['png'])\n",
    "plt.show()"
   ]
  },
  {
   "cell_type": "markdown",
   "id": "f8aade93",
   "metadata": {},
   "source": [
    "###### Proporção por Situação"
   ]
  },
  {
   "cell_type": "code",
   "execution_count": null,
   "id": "2b17dfe9",
   "metadata": {},
   "outputs": [],
   "source": [
    "#proporcao por situacao\n",
    "result = pd.crosstab(df['SITUACAO_INSCRICAO'], df['INDICADOR_AJUIZADO'])\n",
    "print(result)"
   ]
  },
  {
   "cell_type": "code",
   "execution_count": null,
   "id": "1a24fc1a",
   "metadata": {},
   "outputs": [],
   "source": [
    "#proporcao por situacao\n",
    "result = pd.crosstab(df['SITUACAO_INSCRICAO'], df['INDICADOR_AJUIZADO'], normalize='index')\n",
    "\n",
    "result *= 100\n",
    "result"
   ]
  },
  {
   "cell_type": "code",
   "execution_count": null,
   "id": "de90bae7",
   "metadata": {},
   "outputs": [],
   "source": [
    "fig = plt.figure(figsize=(10, 6))\n",
    "result.plot(kind='bar', stacked=True, colormap='Set2', ax=plt.gca())\n",
    "\n",
    "plt.title('Proporção de Ajuizado por Situação da Inscrição', pad=20)\n",
    "plt.xlabel('Situação da Inscrição', labelpad=15)\n",
    "plt.ylabel('%', labelpad=15)\n",
    "plt.xticks(rotation=45)\n",
    "plt.legend(bbox_to_anchor=(0.5, 1.09), loc='upper center',ncol=2)\n",
    "plt.tight_layout()\n",
    "save_figure(fig, \"indicador_ajuizado_por_situcacao_inscricao\", formats=['png'])\n"
   ]
  },
  {
   "cell_type": "markdown",
   "id": "11331b44",
   "metadata": {},
   "source": [
    "##### Proporção por UF Unidade Responsavel"
   ]
  },
  {
   "cell_type": "code",
   "execution_count": null,
   "id": "954ab3c9",
   "metadata": {},
   "outputs": [],
   "source": [
    "# proporcao por UF\n",
    "\n",
    "\n",
    "result = df.groupby('UF_UNIDADE_RESPONSAVEL')['INDICADOR_AJUIZADO'] \\\n",
    "    .value_counts(normalize=True) \\\n",
    "    .unstack() \\\n",
    "    # .sort_values('SIM', ascending=False)\n",
    "\n",
    "result *= 100\n",
    "result"
   ]
  },
  {
   "cell_type": "code",
   "execution_count": null,
   "id": "d11a103a",
   "metadata": {},
   "outputs": [],
   "source": [
    "ax = result.plot(kind='bar', stacked=True, figsize=(10, 6), colormap='Set2')\n",
    "plt.title('Proporção de Ajuizado por Situação da Inscrição', pad=20)\n",
    "plt.xlabel('UF Unidade Responsável', labelpad=15)\n",
    "plt.ylabel('%', labelpad=15)\n",
    "plt.xticks(rotation=0)\n",
    "plt.legend(bbox_to_anchor=(0.5, 1.06), loc='upper center', ncol=2)\n",
    "plt.tight_layout()\n",
    "plt.show()\n",
    "save_figure(fig, \"indicador_ajuizado_por_uf_unidade_responsavel\", formats=['png'])\n",
    "\n",
    "\n"
   ]
  },
  {
   "cell_type": "markdown",
   "id": "d15dddf5",
   "metadata": {},
   "source": [
    "##### Proporção por Situação"
   ]
  },
  {
   "cell_type": "code",
   "execution_count": null,
   "id": "18008814",
   "metadata": {},
   "outputs": [],
   "source": []
  },
  {
   "cell_type": "markdown",
   "id": "d7dfe512",
   "metadata": {},
   "source": [
    "##### Proporção por Valor Consolidado"
   ]
  },
  {
   "cell_type": "code",
   "execution_count": null,
   "id": "07c1b118",
   "metadata": {},
   "outputs": [],
   "source": [
    "result = df.groupby('INDICADOR_AJUIZADO')['VALOR_CONSOLIDADO'].describe().T\n",
    "result"
   ]
  },
  {
   "cell_type": "markdown",
   "id": "8b24619a",
   "metadata": {},
   "source": [
    "VALOR_CONSOLIDADO possui valores extremos"
   ]
  },
  {
   "cell_type": "code",
   "execution_count": null,
   "id": "37454b37",
   "metadata": {},
   "outputs": [],
   "source": [
    "filtered_df = df[(df['VALOR_CONSOLIDADO'] < 2) & (df['SITUACAO_INSCRICAO'] == 'AJUIZADA')]\n",
    "filtered_df"
   ]
  },
  {
   "cell_type": "markdown",
   "id": "6d6e88cf",
   "metadata": {},
   "source": [
    "#### Avalise Variaveis Numéricas"
   ]
  },
  {
   "cell_type": "code",
   "execution_count": null,
   "id": "36a3ddf4",
   "metadata": {},
   "outputs": [],
   "source": [
    "df = dadosDF"
   ]
  },
  {
   "cell_type": "code",
   "execution_count": null,
   "id": "f7cd40f3",
   "metadata": {},
   "outputs": [],
   "source": [
    "result = df.groupby('INDICADOR_AJUIZADO')['VALOR_CONSOLIDADO'].describe().T\n",
    "result"
   ]
  },
  {
   "cell_type": "code",
   "execution_count": null,
   "id": "40cb9a66",
   "metadata": {},
   "outputs": [],
   "source": [
    "plt.figure(figsize=(10,6))\n",
    "sns.boxplot(data=df, x='INDICADOR_AJUIZADO', y='VALOR_CONSOLIDADO', palette='Set2')\n",
    "plt.title('Distribuição de VALOR_CONSOLIDADO por INDICADOR_AJUIZADO', fontsize=16)\n",
    "plt.xlabel('Indicador Ajuizado (SIM/NAO)', fontsize=12)\n",
    "plt.ylabel('VALOR_CONSOLIDADO', fontsize=12)\n",
    "plt.tight_layout()\n",
    "plt.show()"
   ]
  },
  {
   "cell_type": "code",
   "execution_count": null,
   "id": "2bf5c0af",
   "metadata": {},
   "outputs": [],
   "source": [
    "#Visualizando padroes para cada situacao\n",
    "\n",
    "situacoes = [\n",
    "    'AJUIZ PARCELADA', 'AJUIZADA', 'EMBARGADA', 'ENC PROTESTO', \n",
    "    'INSCR PARCELADA', 'INSCRITA', 'OUTROS AJUIZADA', 'OUTROS INSCRITA',\n",
    "    'PETICIONADA', 'TRANSFERIDA'\n",
    "]\n",
    "resultados = {}\n",
    "for situacao in situacoes:\n",
    "    filtered_df = df[df['SITUACAO_INSCRICAO'] == situacao]\n",
    "    result = filtered_df.groupby('INDICADOR_AJUIZADO')['VALOR_CONSOLIDADO'].describe().T\n",
    "    resultados[situacao] = result\n",
    "\n",
    "for situacao, result in resultados.items():\n",
    "    print(f\"Descrição para SITUACAO_INSCRICAO = {situacao}:\")\n",
    "    print(result)\n",
    "    print(\"\\n\" + \"=\"*50 + \"\\n\")\n"
   ]
  },
  {
   "cell_type": "markdown",
   "id": "5ed8a7ec",
   "metadata": {},
   "source": []
  },
  {
   "cell_type": "markdown",
   "id": "6b6980bf",
   "metadata": {},
   "source": [
    "### Features"
   ]
  },
  {
   "cell_type": "code",
   "execution_count": null,
   "id": "81e162bd",
   "metadata": {},
   "outputs": [],
   "source": [
    "cnpj_counts = final_df['CPF_CNPJ'].value_counts()\n",
    "duplicate_cnpjs = cnpj_counts[cnpj_counts > 1]\n",
    "print(f\"\\nCPF_CNPJs duplicados:\")\n",
    "print(duplicate_cnpjs)\n",
    "\n",
    "duplicate_rows = final_df[final_df['CPF_CNPJ'].isin(duplicate_cnpjs.index)]\n",
    "\n"
   ]
  },
  {
   "cell_type": "code",
   "execution_count": null,
   "id": "af62fd51",
   "metadata": {},
   "outputs": [],
   "source": [
    "duplicate_rows.loc[duplicate_rows['CPF_CNPJ'] == '26925503000161']"
   ]
  },
  {
   "cell_type": "code",
   "execution_count": null,
   "id": "faf76587",
   "metadata": {},
   "outputs": [],
   "source": [
    "count = final_df['NUMERO_INSCRICAO'].value_counts()\n",
    "duplicates = count[count > 1]\n",
    "print(duplicates)\n",
    "\n",
    "duplicate_rows = final_df[final_df['NUMERO_INSCRICAO'].isin(duplicates.index)]\n"
   ]
  },
  {
   "cell_type": "code",
   "execution_count": null,
   "id": "d9018b25",
   "metadata": {},
   "outputs": [],
   "source": [
    "duplicate_rows.loc[duplicate_rows['NUMERO_INSCRICAO'] == 'FGTO201500125']"
   ]
  },
  {
   "cell_type": "code",
   "execution_count": null,
   "id": "246968c1",
   "metadata": {},
   "outputs": [],
   "source": [
    "situacao_df = final_df[[\n",
    "    'NUMERO_INSCRICAO',\n",
    "    'ANOMES',\n",
    "    'SITUACAO_INSCRICAO'\n",
    "]].drop_duplicates().sort_values(by=['NUMERO_INSCRICAO', 'ANOMES'])\n",
    "\n",
    "situacao_df['SITUACAO_INSCRICAO_ANTERIOR'] = situacao_df.groupby('NUMERO_INSCRICAO')['SITUACAO_INSCRICAO'].shift(1)\n",
    "\n",
    "situacao_df['MUDOU_INSCRITA_PARA_AJUIZADA'] = (\n",
    "    (situacao_df['SITUACAO_INSCRICAO_ANTERIOR'] == 'INSCRITA') &\n",
    "    (situacao_df['SITUACAO_INSCRICAO'] == 'AJUIZADA')\n",
    ")\n",
    "\n",
    "situacao_df['MUDOU_PARA_AJUIZADA'] = (\n",
    "    (situacao_df['SITUACAO_INSCRICAO_ANTERIOR'] != 'AJUIZADA') &\n",
    "    (situacao_df['SITUACAO_INSCRICAO'] == 'AJUIZADA')\n",
    ")\n",
    "\n",
    "situacao_df = situacao_df[[\n",
    "    'NUMERO_INSCRICAO',\n",
    "    'MUDOU_PARA_AJUIZADA',\n",
    "    'SITUACAO_INSCRICAO_ANTERIOR',\n",
    "    'SITUACAO_INSCRICAO',\n",
    "    'ANOMES'\n",
    "]]\n",
    "\n"
   ]
  },
  {
   "cell_type": "code",
   "execution_count": null,
   "id": "086f1dbf",
   "metadata": {},
   "outputs": [],
   "source": [
    "situacao_df"
   ]
  },
  {
   "cell_type": "code",
   "execution_count": null,
   "id": "5c4a266d",
   "metadata": {},
   "outputs": [],
   "source": [
    "import pandas as pd\n",
    "import matplotlib.pyplot as plt\n",
    "\n",
    "# final_df['ANOMES'] = pd.to_datetime(final_df['ANOMES']).dt.year\n",
    "\n",
    "# Create proportion plot\n",
    "plt.figure(figsize=(20, 10))\n",
    "\n",
    "# Calculate proportions\n",
    "props = (final_df.groupby(['ANOMES', 'SITUACAO_INSCRICAO'])\n",
    "         .size()\n",
    "         .unstack()\n",
    "         .fillna(0)\n",
    "         .apply(lambda x: x/x.sum() * 100, axis=1))\n",
    "\n",
    "# Create stacked bar plot\n",
    "ax = props.plot(kind='bar', stacked=True)\n",
    "\n",
    "plt.title('Proporção de Situações por AnoMes', fontsize=14)\n",
    "plt.xlabel('AnoMes')\n",
    "plt.ylabel('Proporção (%)')\n",
    "\n",
    "# Rotate x-axis labels\n",
    "plt.xticks(rotation=90)\n",
    "\n",
    "# Add legend outside of plot\n",
    "plt.legend(title='Situação', bbox_to_anchor=(1.05, 1), loc='upper left')\n",
    "\n",
    "# Adjust layout to prevent label cutoff\n",
    "plt.tight_layout()\n",
    "\n",
    "plt.show()"
   ]
  },
  {
   "cell_type": "code",
   "execution_count": null,
   "id": "abe2bc47",
   "metadata": {},
   "outputs": [],
   "source": [
    "mudou_para_ajuizada = situacao_df[situacao_df['MUDOU_PARA_AJUIZADA'] == True]\n",
    "plt.figure(figsize=(20, 10))\n",
    "props = (mudou_para_ajuizada.groupby(['ANOMES', 'SITUACAO_INSCRICAO_ANTERIOR'])\n",
    "         .size()\n",
    "         .unstack()\n",
    "         .fillna(0)\n",
    "         .apply(lambda x: x/x.sum() * 100, axis=1))\n",
    "\n",
    "ax = props.plot(kind='bar', stacked=True)\n",
    "\n",
    "plt.title('Proporção de Situações que Mudaram para AJUIZADA por AnoMes', fontsize=14)\n",
    "plt.xlabel('AnoMes')\n",
    "plt.ylabel('Proporção (%)')\n",
    "\n",
    "plt.xticks(rotation=90)\n",
    "plt.legend(title='Situação Anterior', bbox_to_anchor=(1.05, 1), loc='upper left')\n",
    "\n",
    "plt.tight_layout()\n",
    "\n",
    "plt.show()"
   ]
  },
  {
   "cell_type": "code",
   "execution_count": null,
   "id": "c6723377",
   "metadata": {},
   "outputs": [],
   "source": [
    "#ver situacao distinta\n",
    "unique_situacao = final_df[[\n",
    "    'SITUACAO_INSCRICAO'\n",
    "]].drop_duplicates()\n",
    "\n",
    "unique_situacao"
   ]
  },
  {
   "cell_type": "code",
   "execution_count": null,
   "id": "4656457f",
   "metadata": {},
   "outputs": [],
   "source": [
    "# Get counts and proportions of each situation grouped by ANOMES\n",
    "summary_by_anomes = []\n",
    "\n",
    "for anomes in final_df['ANOMES'].unique():\n",
    "    df_anomes = final_df[final_df['ANOMES'] == anomes]\n",
    "    \n",
    "    situacao_counts = df_anomes['SITUACAO_INSCRICAO'].value_counts()\n",
    "    situacao_props = (situacao_counts / len(df_anomes) * 100).round(2)\n",
    "    \n",
    "    summary_df = pd.DataFrame({\n",
    "        'ANOMES': anomes,\n",
    "        'Count': situacao_counts,\n",
    "        'Percentage': situacao_props\n",
    "    })\n",
    "    \n",
    "    summary_by_anomes.append(summary_df)\n",
    "\n",
    "# Combine all summaries\n",
    "final_summary = pd.concat(summary_by_anomes)\n",
    "final_summary = final_summary.reset_index()\n",
    "final_summary = final_summary.pivot(index='SITUACAO_INSCRICAO', \n",
    "                                  columns='ANOMES', \n",
    "                                  values=['Count', 'Percentage'])\n",
    "\n",
    "# Display the results\n",
    "print(\"\\nCounts by ANOMES:\")\n",
    "print(final_summary['Count'])\n",
    "print(\"\\nPercentages by ANOMES:\")\n",
    "print(final_summary['Percentage'])"
   ]
  },
  {
   "cell_type": "code",
   "execution_count": null,
   "id": "f3029cc4",
   "metadata": {},
   "outputs": [],
   "source": [
    "# Ver todas as mudanças possíveis de situação\n",
    "mudancas_possiveis = (\n",
    "    situacao_df[['SITUACAO_INSCRICAO_ANTERIOR', 'SITUACAO_INSCRICAO']]\n",
    "    .drop_duplicates()\n",
    "    .reset_index(drop=True)\n",
    ")\n",
    "\n",
    "mudancas_possiveis"
   ]
  },
  {
   "cell_type": "code",
   "execution_count": null,
   "id": "78c5f503",
   "metadata": {},
   "outputs": [],
   "source": [
    "import networkx as nx\n",
    "import matplotlib.pyplot as plt\n",
    "import pandas as pd\n",
    "from collections import Counter\n",
    "from networkx.drawing.nx_agraph import graphviz_layout\n",
    "\n",
    "# Criar grafo\n",
    "graph = nx.DiGraph()\n",
    "\n",
    "# Contar transições\n",
    "transicoes = Counter()\n",
    "for _, row in mudancas_possiveis.iterrows():\n",
    "    if pd.notna(row['SITUACAO_INSCRICAO_ANTERIOR']) and pd.notna(row['SITUACAO_INSCRICAO']):\n",
    "        origem = row['SITUACAO_INSCRICAO_ANTERIOR']\n",
    "        destino = row['SITUACAO_INSCRICAO']\n",
    "        transicoes[(origem, destino)] += 1\n",
    "\n",
    "# Aresta mais frequente\n",
    "transicao_top = max(transicoes, key=transicoes.get)\n",
    "\n",
    "# Adiciona as arestas ao grafo\n",
    "for (origem, destino), peso in transicoes.items():\n",
    "    graph.add_edge(origem, destino, weight=peso)\n",
    "\n",
    "# Layout\n",
    "pos = graphviz_layout(graph, prog='dot')\n",
    "\n",
    "# Cores dos nós\n",
    "out_degrees = dict(graph.out_degree())\n",
    "node_colors = [out_degrees[node] for node in graph.nodes]\n",
    "\n",
    "# Preparar dados das arestas\n",
    "edge_colors = []\n",
    "edge_widths = []\n",
    "edge_arrows = []\n",
    "\n",
    "for u, v in graph.edges():\n",
    "    if (u, v) == transicao_top:\n",
    "        edge_colors.append('darkgreen')   # Destaque máximo\n",
    "        edge_widths.append(4.5)\n",
    "        edge_arrows.append(35)\n",
    "    elif graph[u][v]['weight'] >= 10:\n",
    "        edge_colors.append('crimson')     # Destaque intermediário\n",
    "        edge_widths.append(2.5)\n",
    "        edge_arrows.append(25)\n",
    "    else:\n",
    "        edge_colors.append('lightgray')   # Transições comuns\n",
    "        edge_widths.append(1.5)\n",
    "        edge_arrows.append(20)\n",
    "\n",
    "plt.figure(figsize=(14, 10))\n",
    "\n",
    "# Nós\n",
    "nx.draw_networkx_nodes(\n",
    "    graph, pos,\n",
    "    node_size=10000,\n",
    "    node_color=node_colors,\n",
    "    cmap=plt.cm.BuGn,\n",
    "    edgecolors='black',\n",
    "    linewidths=1\n",
    ")\n",
    "\n",
    "# Desenhar arestas com personalização individual\n",
    "for i, (u, v) in enumerate(graph.edges()):\n",
    "    nx.draw_networkx_edges(\n",
    "        graph, pos,\n",
    "        edgelist=[(u, v)],\n",
    "        arrowstyle='-|>',\n",
    "        arrowsize=edge_arrows[i],\n",
    "        width=edge_widths[i],\n",
    "        edge_color=edge_colors[i],\n",
    "        connectionstyle='arc3,rad=0.1'\n",
    "    )\n",
    "\n",
    "# Rótulos dos nós\n",
    "nx.draw_networkx_labels(graph, pos, font_size=10, font_weight=\"bold\")\n",
    "\n",
    "plt.title(\"Transições de Situação (Maior Frequência em Verde Escuro)\", fontsize=14)\n",
    "plt.axis('off')\n",
    "plt.tight_layout()\n",
    "plt.show()\n"
   ]
  },
  {
   "cell_type": "code",
   "execution_count": null,
   "id": "d1eac9b4",
   "metadata": {},
   "outputs": [],
   "source": [
    "import networkx as nx\n",
    "import pandas as pd\n",
    "import plotly.graph_objects as go\n",
    "from collections import Counter\n",
    "from networkx.drawing.nx_agraph import graphviz_layout\n",
    "import matplotlib.cm as cm\n",
    "import matplotlib.colors as mcolors\n",
    "import random  # Importa a biblioteca random\n",
    "\n",
    "# ======= CONFIGURAÇÕES =======\n",
    "limite_transicoes = 1  # Mostra apenas transições com pelo menos esse número\n",
    "usar_grupos = True     # Define se os nós devem ser coloridos por grupo\n",
    "\n",
    "# EXEMPLO: Supondo que você tenha um DataFrame com colunas:\n",
    "# 'SITUACAO_INSCRICAO_ANTERIOR', 'SITUACAO_INSCRICAO', 'GRUPO_SITUACAO' (opcional)\n",
    "# Se não tiver grupo, criaremos um por padrão\n",
    "if 'GRUPO_SITUACAO' not in mudancas_possiveis.columns:\n",
    "    mudancas_possiveis['GRUPO_SITUACAO'] = mudancas_possiveis['SITUACAO_INSCRICAO']\n",
    "\n",
    "# Criar grafo\n",
    "G = nx.DiGraph()\n",
    "transicoes = Counter()\n",
    "\n",
    "for _, row in mudancas_possiveis.iterrows():\n",
    "    origem = row['SITUACAO_INSCRICAO_ANTERIOR']\n",
    "    destino = row['SITUACAO_INSCRICAO']\n",
    "    if pd.notna(origem) and pd.notna(destino):\n",
    "        transicoes[(origem, destino)] += 1\n",
    "\n",
    "# Adicionar arestas com pesos acima do limite\n",
    "for (origem, destino), peso in transicoes.items():\n",
    "    if peso >= limite_transicoes:\n",
    "        G.add_edge(origem, destino, weight=peso)\n",
    "\n",
    "# Verifica quais nós ainda estão presentes\n",
    "nos_validos = set(G.nodes())\n",
    "\n",
    "# Criar dicionário de grupos\n",
    "grupos_dict = mudancas_possiveis.set_index('SITUACAO_INSCRICAO')['GRUPO_SITUACAO'].to_dict()\n",
    "grupos_nos = {n: grupos_dict.get(n, 'Desconhecido') for n in G.nodes()}\n",
    "\n",
    "# Codificar cores por grupo\n",
    "grupos_unicos = sorted(set(grupos_nos.values()))\n",
    "cmap = cm.get_cmap('tab10', len(grupos_unicos))\n",
    "cores_grupo = {grupo: mcolors.to_hex(cmap(i)) for i, grupo in enumerate(grupos_unicos)}\n",
    "\n",
    "# Layout com Graphviz para hierarquia (prog='dot' já é adequado para isso)\n",
    "pos = graphviz_layout(G, prog='dot')\n",
    "\n",
    "# Criar nós\n",
    "node_x, node_y, node_text, node_colors = [], [], [], []\n",
    "\n",
    "for node in G.nodes():\n",
    "    x, y = pos[node]\n",
    "    node_x.append(x)\n",
    "    node_y.append(-y)\n",
    "    node_text.append(f\"{node}<br>Grupo: {grupos_nos[node]}\")\n",
    "    node_colors.append(cores_grupo[grupos_nos[node]])\n",
    "\n",
    "node_trace = go.Scatter(\n",
    "    x=node_x, y=node_y,\n",
    "    mode='markers+text',\n",
    "    text=node_text,\n",
    "    textposition='bottom center',\n",
    "    hoverinfo='text',\n",
    "    marker=dict(\n",
    "        color=node_colors,\n",
    "        size=100,  # Aumenta o tamanho do nó (bola)\n",
    "        line=dict(color='black', width=2)\n",
    "    )\n",
    ")\n",
    "\n",
    "# Criar arestas\n",
    "edge_traces = []\n",
    "annotations = []\n",
    "\n",
    "# Determina a transição mais frequente\n",
    "transicao_top = max(transicoes.items(), key=lambda x: x[1] if x[0] in G.edges else -1)[0]\n",
    "\n",
    "for u, v in G.edges():\n",
    "    x0, y0 = pos[u]\n",
    "    x1, y1 = pos[v]\n",
    "    y0, y1 = -y0, -y1\n",
    "    peso = G[u][v]['weight']\n",
    "\n",
    "    # Cor da seta baseada no nó de origem\n",
    "    cor_origem = cores_grupo[grupos_nos[u]]  # Cor do nó de origem (u)\n",
    "    width = 1.5  # Define a espessura da seta\n",
    "\n",
    "    # Afastar as setas para fora dos nós com offset aleatório\n",
    "    offset = random.uniform(1, 5)  # Gera um valor aleatório entre 1 e 5\n",
    "\n",
    "    # Nova posição para as setas\n",
    "    x0 += offset\n",
    "    y0 += offset\n",
    "    x1 += offset\n",
    "    y1 += offset\n",
    "\n",
    "    # Adiciona arestas com a cor correspondente ao nó de origem\n",
    "    edge_traces.append(go.Scatter(\n",
    "        x=[x0, x1, None],\n",
    "        y=[y0, y1, None],\n",
    "        mode='lines',\n",
    "        line=dict(color=cor_origem, width=width),\n",
    "        hoverinfo='text',\n",
    "        text=[f\"{u} → {v}<br>Transições: {peso}\"]\n",
    "    ))\n",
    "\n",
    "    # Adiciona setas fora dos nós, com a cor do nó de origem\n",
    "    annotations.append(dict(\n",
    "        ax=x0, ay=y0,\n",
    "        x=x1, y=y1,\n",
    "        xref='x', yref='y',\n",
    "        axref='x', ayref='y',\n",
    "        showarrow=True,\n",
    "        arrowhead=2,    # Tamanho da ponta da seta\n",
    "        arrowsize=2,    # Aumenta o tamanho da seta\n",
    "        arrowwidth=2,   # Aumenta a largura da seta\n",
    "        arrowcolor=cor_origem,  # Cor da seta igual ao nó de origem\n",
    "        opacity=0.8\n",
    "    ))\n",
    "\n",
    "# Layout do gráfico\n",
    "fig = go.Figure(\n",
    "    data=edge_traces + [node_trace],\n",
    "    layout=go.Layout(\n",
    "        title=dict(text=f'Transições de Situação (≥ {limite_transicoes} ocorrências)', font=dict(size=16)),\n",
    "        showlegend=False,\n",
    "        hovermode='closest',\n",
    "        margin=dict(b=20, l=5, r=5, t=40),\n",
    "        xaxis=dict(showgrid=False, zeroline=False, showticklabels=False),\n",
    "        yaxis=dict(showgrid=False, zeroline=False, showticklabels=False),\n",
    "        annotations=annotations\n",
    "    )\n",
    ")\n",
    "\n",
    "# Salvar o gráfico como arquivo HTML\n",
    "fig.write_html(\"grafo_interativo.html\")\n"
   ]
  },
  {
   "cell_type": "markdown",
   "id": "8ddc5b4a",
   "metadata": {},
   "source": [
    "Árvores de Decisão ou Random Forest: Modelos robustos para problemas de classificação, que podem lidar bem com variáveis categóricas e numéricas.\n",
    "\n",
    "Regressão Logística: Um modelo simples que pode ser útil para previsões binárias, como se a dívida será ajuizada ou não.\n",
    "\n",
    "XGBoost: Um modelo de árvore de decisão mais avançado, frequentemente usado para classificações de alta performance."
   ]
  },
  {
   "cell_type": "markdown",
   "id": "f3e7df8c",
   "metadata": {},
   "source": []
  }
 ],
 "metadata": {
  "kernelspec": {
   "display_name": "venv",
   "language": "python",
   "name": "python3"
  },
  "language_info": {
   "codemirror_mode": {
    "name": "ipython",
    "version": 3
   },
   "file_extension": ".py",
   "mimetype": "text/x-python",
   "name": "python",
   "nbconvert_exporter": "python",
   "pygments_lexer": "ipython3",
   "version": "3.12.9"
  }
 },
 "nbformat": 4,
 "nbformat_minor": 5
}
