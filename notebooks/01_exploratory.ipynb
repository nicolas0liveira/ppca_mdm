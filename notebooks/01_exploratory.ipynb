{
 "cells": [
  {
   "cell_type": "markdown",
   "id": "497e2f76",
   "metadata": {},
   "source": [
    "# Exploratory"
   ]
  },
  {
   "cell_type": "markdown",
   "id": "516d168e",
   "metadata": {},
   "source": [
    "## Notes\n",
    "\n",
    "* **FGTS:** Refere-se a débitos de empregadores com o fundo de garantia.\n",
    "* **PREV (Previdenciário):** Débitos de contribuições previdenciárias.\n",
    "* **SIDA:** Conjunto de dados do sistema unificado da administração federal, com dados detalhados sobre devedores e sua situação perante a União.\n",
    "\n",
    "Layout dos arquivos:\n",
    "\n",
    "➜ FGTS PREV e SIDA\n",
    "| Campo                     | Descrição                                                                 |\n",
    "|---------------------------|---------------------------------------------------------------------------|\n",
    "| CPF_CNPJ                  | CPF ou CNPJ do devedor inscrito na dívida ativa.                         |\n",
    "| TIPO_PESSOA               | Indica se o devedor é pessoa física (F) ou jurídica (J).                 |\n",
    "| TIPO_DEVEDOR              | Categoria do devedor: contribuinte individual, empresa, órgão público etc. |\n",
    "| NOME_DEVEDOR              | Nome ou razão social do devedor.                                         |\n",
    "| UF_DEVEDOR                | Unidade da Federação (estado) do devedor.                               |\n",
    "| UNIDADE_RESPONSAVEL       | Unidade da PGFN responsável pela inscrição da dívida.                   |\n",
    "| NUMERO_INSCRICAO          | Número único da inscrição da dívida ativa.                              |\n",
    "| TIPO_SITUACAO_INSCRICAO   | Tipo da situação da inscrição: ativa, suspensa, extinta etc.            |\n",
    "| SITUACAO_INSCRICAO        | Descrição detalhada da situação atual da dívida.                        |\n",
    "| TIPO_CREDITO              | Tipo de crédito tributário ou não tributário (ex: FGTS, Multas).        |\n",
    "| DATA_INSCRICAO            | Data da inscrição na dívida ativa.                                      |\n",
    "| INDICADOR_AJUIZADO        | Indica se a dívida foi ajuizada: 'S' ou 'N'.                            |\n",
    "| VALOR_CONSOLIDADO         | Valor total da dívida com acréscimos legais.                            |\n",
    "\n",
    "➜ FGTS\n",
    "| Campo                  | Descrição                                           |\n",
    "|------------------------|---------------------------------------------------|\n",
    "| ENTIDADE_RESPONSAVEL   | Entidade que gerou a inscrição do débito FGTS.    |\n",
    "| UNIDADE_INSCRICAO      | Unidade/agência que realizou a inscrição do débito FGTS. |\n"
   ]
  },
  {
   "cell_type": "markdown",
   "id": "1a502db6",
   "metadata": {},
   "source": []
  },
  {
   "cell_type": "markdown",
   "id": "3b40c3f5",
   "metadata": {},
   "source": [
    "## Imports"
   ]
  },
  {
   "cell_type": "code",
   "execution_count": 1,
   "id": "a2a6a9f5",
   "metadata": {},
   "outputs": [],
   "source": [
    "import sys\n",
    "import os\n",
    "\n",
    "project_root = os.path.abspath(os.path.join(os.getcwd(), '..'))\n",
    "if project_root not in sys.path:\n",
    "    sys.path.append(project_root)\n",
    "\n",
    "import pandas as pd\n",
    "\n",
    "from modules.utils import (\n",
    "        find_zip_files_by_pattern,\n",
    "        read_zip_csvs_as_df,\n",
    "        dataframe_info,\n",
    "        extract_origem_from_filename\n",
    "    )"
   ]
  },
  {
   "cell_type": "markdown",
   "id": "9505c7ad",
   "metadata": {},
   "source": [
    "## Dados"
   ]
  },
  {
   "cell_type": "code",
   "execution_count": 2,
   "id": "5a547764",
   "metadata": {},
   "outputs": [
    {
     "name": "stdout",
     "output_type": "stream",
     "text": [
      "Processando arquivo: /home/nicolas/github/unb/ppca_mdm/dados/2020T2_Dados_abertos_FGTS.zip\n",
      "Processando arquivo: /home/nicolas/github/unb/ppca_mdm/dados/2020T1_Dados_abertos_FGTS.zip\n"
     ]
    }
   ],
   "source": [
    "zip_files = find_zip_files_by_pattern(directory=f\"{project_root}/dados/\", pattern='FGTS.zip')\n",
    "all_dfs = []\n",
    "\n",
    "for f in zip_files:\n",
    "    print(f\"Processando arquivo: {f}\")\n",
    "    df = read_zip_csvs_as_df(f, encoding='latin1', verbose=False)\n",
    "    all_dfs.append(df)\n",
    "\n",
    "final_df = pd.concat(all_dfs, ignore_index=True)"
   ]
  },
  {
   "cell_type": "code",
   "execution_count": 8,
   "id": "b543e382",
   "metadata": {},
   "outputs": [
    {
     "name": "stdout",
     "output_type": "stream",
     "text": [
      "\n",
      "DataFrame Information:\n",
      "\n",
      "Shape: (882198, 18)\n",
      "\n",
      "Columns: ['CPF_CNPJ', 'TIPO_PESSOA', 'TIPO_DEVEDOR', 'NOME_DEVEDOR', 'UF_UNIDADE_RESPONSAVEL', 'UNIDADE_RESPONSAVEL', 'ENTIDADE_RESPONSAVEL', 'UNIDADE_INSCRICAO', 'NUMERO_INSCRICAO', 'TIPO_SITUACAO_INSCRICAO', 'SITUACAO_INSCRICAO', 'RECEITA_PRINCIPAL', 'DATA_INSCRICAO', 'INDICADOR_AJUIZADO', 'VALOR_CONSOLIDADO', '__source_file__', 'ANOMES', 'ORIGEM']\n",
      "\n",
      "Data Types:\n",
      "CPF_CNPJ                    object\n",
      "TIPO_PESSOA                 object\n",
      "TIPO_DEVEDOR                object\n",
      "NOME_DEVEDOR                object\n",
      "UF_UNIDADE_RESPONSAVEL      object\n",
      "UNIDADE_RESPONSAVEL         object\n",
      "ENTIDADE_RESPONSAVEL        object\n",
      "UNIDADE_INSCRICAO           object\n",
      "NUMERO_INSCRICAO            object\n",
      "TIPO_SITUACAO_INSCRICAO     object\n",
      "SITUACAO_INSCRICAO          object\n",
      "RECEITA_PRINCIPAL           object\n",
      "DATA_INSCRICAO              object\n",
      "INDICADOR_AJUIZADO          object\n",
      "VALOR_CONSOLIDADO          float64\n",
      "__source_file__             object\n",
      "ANOMES                      object\n",
      "ORIGEM                      object\n",
      "dtype: object\n",
      "\n",
      "Missing Values:\n",
      "CPF_CNPJ                        0\n",
      "TIPO_PESSOA                     0\n",
      "TIPO_DEVEDOR                    0\n",
      "NOME_DEVEDOR                    0\n",
      "UF_UNIDADE_RESPONSAVEL     326295\n",
      "UNIDADE_RESPONSAVEL             0\n",
      "ENTIDADE_RESPONSAVEL            0\n",
      "UNIDADE_INSCRICAO               0\n",
      "NUMERO_INSCRICAO                0\n",
      "TIPO_SITUACAO_INSCRICAO         0\n",
      "SITUACAO_INSCRICAO              0\n",
      "RECEITA_PRINCIPAL               0\n",
      "DATA_INSCRICAO                  0\n",
      "INDICADOR_AJUIZADO              0\n",
      "VALOR_CONSOLIDADO               0\n",
      "__source_file__                 0\n",
      "ANOMES                          0\n",
      "ORIGEM                          0\n",
      "dtype: int64\n",
      "\n",
      "DataFrame Memory Usage: 925.58 MB\n",
      "\n",
      "DataFrame Size: 15879564 elements\n",
      "\n",
      "\n",
      ">DataFrame describe:\n",
      "        VALOR_CONSOLIDADO\n",
      "count       8.821980e+05\n",
      "mean        8.473197e+04\n",
      "std         7.639035e+05\n",
      "min         2.000000e-02\n",
      "25%         2.746440e+03\n",
      "50%         9.263790e+03\n",
      "75%         3.362635e+04\n",
      "max         1.530936e+08\n"
     ]
    }
   ],
   "source": [
    "dataframe_info(final_df)"
   ]
  },
  {
   "cell_type": "code",
   "execution_count": 3,
   "id": "86e63d25",
   "metadata": {},
   "outputs": [],
   "source": [
    "#only numbers\n",
    "final_df['CPF_CNPJ'] = (\n",
    "    final_df['CPF_CNPJ']\n",
    "    .astype(str)\n",
    "    .str.replace(r'\\D', '', regex=True)\n",
    "    .where(final_df['CPF_CNPJ'].notna())\n",
    ")\n",
    "\n",
    "#extratcing year and month from filename\n",
    "final_df[\"ANOMES\"] = final_df[\"__source_file__\"].str.extract(r'(\\d{6})')\n",
    "\n",
    "\n",
    "final_df[\"ORIGEM\"] = final_df[\"__source_file__\"].apply(extract_origem_from_filename)\n",
    "\n",
    "\n"
   ]
  },
  {
   "cell_type": "code",
   "execution_count": null,
   "id": "81e162bd",
   "metadata": {},
   "outputs": [
    {
     "name": "stdout",
     "output_type": "stream",
     "text": [
      "\n",
      "CPF_CNPJs duplicados:\n",
      "CPF_CNPJ\n",
      "30477954000150    109\n",
      "61575775000180    108\n",
      "60477056000163     94\n",
      "96653894000198     90\n",
      "92219070000153     86\n",
      "                 ... \n",
      "26925503000161      2\n",
      "92635838000170      2\n",
      "42407429000148      2\n",
      "02795365000185      2\n",
      "06266303000137      2\n",
      "Name: count, Length: 241704, dtype: int64\n"
     ]
    }
   ],
   "source": [
    "cnpj_counts = final_df['CPF_CNPJ'].value_counts()\n",
    "duplicate_cnpjs = cnpj_counts[cnpj_counts > 1]\n",
    "print(f\"\\nCPF_CNPJs duplicados:\")\n",
    "print(duplicate_cnpjs)\n",
    "\n",
    "duplicate_rows = final_df[final_df['CPF_CNPJ'].isin(duplicate_cnpjs.index)]\n",
    "\n"
   ]
  },
  {
   "cell_type": "code",
   "execution_count": 5,
   "id": "af62fd51",
   "metadata": {},
   "outputs": [
    {
     "data": {
      "application/vnd.microsoft.datawrangler.viewer.v0+json": {
       "columns": [
        {
         "name": "index",
         "rawType": "int64",
         "type": "integer"
        },
        {
         "name": "CPF_CNPJ",
         "rawType": "object",
         "type": "string"
        },
        {
         "name": "TIPO_PESSOA",
         "rawType": "object",
         "type": "string"
        },
        {
         "name": "TIPO_DEVEDOR",
         "rawType": "object",
         "type": "string"
        },
        {
         "name": "NOME_DEVEDOR",
         "rawType": "object",
         "type": "string"
        },
        {
         "name": "UF_UNIDADE_RESPONSAVEL",
         "rawType": "object",
         "type": "unknown"
        },
        {
         "name": "UNIDADE_RESPONSAVEL",
         "rawType": "object",
         "type": "string"
        },
        {
         "name": "ENTIDADE_RESPONSAVEL",
         "rawType": "object",
         "type": "string"
        },
        {
         "name": "UNIDADE_INSCRICAO",
         "rawType": "object",
         "type": "string"
        },
        {
         "name": "NUMERO_INSCRICAO",
         "rawType": "object",
         "type": "string"
        },
        {
         "name": "TIPO_SITUACAO_INSCRICAO",
         "rawType": "object",
         "type": "string"
        },
        {
         "name": "SITUACAO_INSCRICAO",
         "rawType": "object",
         "type": "string"
        },
        {
         "name": "RECEITA_PRINCIPAL",
         "rawType": "object",
         "type": "string"
        },
        {
         "name": "DATA_INSCRICAO",
         "rawType": "object",
         "type": "string"
        },
        {
         "name": "INDICADOR_AJUIZADO",
         "rawType": "object",
         "type": "string"
        },
        {
         "name": "VALOR_CONSOLIDADO",
         "rawType": "float64",
         "type": "float"
        },
        {
         "name": "__source_file__",
         "rawType": "object",
         "type": "string"
        },
        {
         "name": "ANOMES",
         "rawType": "object",
         "type": "string"
        },
        {
         "name": "ORIGEM",
         "rawType": "object",
         "type": "string"
        }
       ],
       "conversionMethod": "pd.DataFrame",
       "ref": "dec9d100-fe41-46fd-a87e-ad21c619f078",
       "rows": [
        [
         "236634",
         "26925503000161",
         "Pessoa jurídica",
         "Principal",
         "J C IND E COMERCIO DE MATERIAIS ESPORTIVOS LTDA",
         null,
         "Não se Aplica",
         "CAIXA",
         "GOIAS",
         "FGGO199900108",
         "Em cobrança",
         "AJUIZADA",
         "Contribuições FGTS",
         "25/02/1999",
         "SIM",
         "10729.25",
         "arquivo_lai_FGTS_NA_202006.csv",
         "202006",
         "FGTS"
        ],
        [
         "698236",
         "26925503000161",
         "Pessoa jurídica",
         "Principal",
         "J C IND E COMERCIO DE MATERIAIS ESPORTIVOS LTDA",
         null,
         "Não se Aplica",
         "CAIXA",
         "GOIAS",
         "FGGO199900108",
         "Em cobrança",
         "AJUIZADA",
         "Contribuições FGTS",
         "25/02/1999",
         "SIM",
         "10653.48",
         "arquivo_lai_FGTS_NA_202002.csv",
         "202002",
         "FGTS"
        ]
       ],
       "shape": {
        "columns": 18,
        "rows": 2
       }
      },
      "text/html": [
       "<div>\n",
       "<style scoped>\n",
       "    .dataframe tbody tr th:only-of-type {\n",
       "        vertical-align: middle;\n",
       "    }\n",
       "\n",
       "    .dataframe tbody tr th {\n",
       "        vertical-align: top;\n",
       "    }\n",
       "\n",
       "    .dataframe thead th {\n",
       "        text-align: right;\n",
       "    }\n",
       "</style>\n",
       "<table border=\"1\" class=\"dataframe\">\n",
       "  <thead>\n",
       "    <tr style=\"text-align: right;\">\n",
       "      <th></th>\n",
       "      <th>CPF_CNPJ</th>\n",
       "      <th>TIPO_PESSOA</th>\n",
       "      <th>TIPO_DEVEDOR</th>\n",
       "      <th>NOME_DEVEDOR</th>\n",
       "      <th>UF_UNIDADE_RESPONSAVEL</th>\n",
       "      <th>UNIDADE_RESPONSAVEL</th>\n",
       "      <th>ENTIDADE_RESPONSAVEL</th>\n",
       "      <th>UNIDADE_INSCRICAO</th>\n",
       "      <th>NUMERO_INSCRICAO</th>\n",
       "      <th>TIPO_SITUACAO_INSCRICAO</th>\n",
       "      <th>SITUACAO_INSCRICAO</th>\n",
       "      <th>RECEITA_PRINCIPAL</th>\n",
       "      <th>DATA_INSCRICAO</th>\n",
       "      <th>INDICADOR_AJUIZADO</th>\n",
       "      <th>VALOR_CONSOLIDADO</th>\n",
       "      <th>__source_file__</th>\n",
       "      <th>ANOMES</th>\n",
       "      <th>ORIGEM</th>\n",
       "    </tr>\n",
       "  </thead>\n",
       "  <tbody>\n",
       "    <tr>\n",
       "      <th>236634</th>\n",
       "      <td>26925503000161</td>\n",
       "      <td>Pessoa jurídica</td>\n",
       "      <td>Principal</td>\n",
       "      <td>J C IND E COMERCIO DE MATERIAIS ESPORTIVOS LTDA</td>\n",
       "      <td>NaN</td>\n",
       "      <td>Não se Aplica</td>\n",
       "      <td>CAIXA</td>\n",
       "      <td>GOIAS</td>\n",
       "      <td>FGGO199900108</td>\n",
       "      <td>Em cobrança</td>\n",
       "      <td>AJUIZADA</td>\n",
       "      <td>Contribuições FGTS</td>\n",
       "      <td>25/02/1999</td>\n",
       "      <td>SIM</td>\n",
       "      <td>10729.25</td>\n",
       "      <td>arquivo_lai_FGTS_NA_202006.csv</td>\n",
       "      <td>202006</td>\n",
       "      <td>FGTS</td>\n",
       "    </tr>\n",
       "    <tr>\n",
       "      <th>698236</th>\n",
       "      <td>26925503000161</td>\n",
       "      <td>Pessoa jurídica</td>\n",
       "      <td>Principal</td>\n",
       "      <td>J C IND E COMERCIO DE MATERIAIS ESPORTIVOS LTDA</td>\n",
       "      <td>NaN</td>\n",
       "      <td>Não se Aplica</td>\n",
       "      <td>CAIXA</td>\n",
       "      <td>GOIAS</td>\n",
       "      <td>FGGO199900108</td>\n",
       "      <td>Em cobrança</td>\n",
       "      <td>AJUIZADA</td>\n",
       "      <td>Contribuições FGTS</td>\n",
       "      <td>25/02/1999</td>\n",
       "      <td>SIM</td>\n",
       "      <td>10653.48</td>\n",
       "      <td>arquivo_lai_FGTS_NA_202002.csv</td>\n",
       "      <td>202002</td>\n",
       "      <td>FGTS</td>\n",
       "    </tr>\n",
       "  </tbody>\n",
       "</table>\n",
       "</div>"
      ],
      "text/plain": [
       "              CPF_CNPJ      TIPO_PESSOA TIPO_DEVEDOR  \\\n",
       "236634  26925503000161  Pessoa jurídica    Principal   \n",
       "698236  26925503000161  Pessoa jurídica    Principal   \n",
       "\n",
       "                                           NOME_DEVEDOR  \\\n",
       "236634  J C IND E COMERCIO DE MATERIAIS ESPORTIVOS LTDA   \n",
       "698236  J C IND E COMERCIO DE MATERIAIS ESPORTIVOS LTDA   \n",
       "\n",
       "       UF_UNIDADE_RESPONSAVEL UNIDADE_RESPONSAVEL ENTIDADE_RESPONSAVEL  \\\n",
       "236634                    NaN       Não se Aplica                CAIXA   \n",
       "698236                    NaN       Não se Aplica                CAIXA   \n",
       "\n",
       "       UNIDADE_INSCRICAO NUMERO_INSCRICAO TIPO_SITUACAO_INSCRICAO  \\\n",
       "236634             GOIAS    FGGO199900108             Em cobrança   \n",
       "698236             GOIAS    FGGO199900108             Em cobrança   \n",
       "\n",
       "       SITUACAO_INSCRICAO   RECEITA_PRINCIPAL DATA_INSCRICAO  \\\n",
       "236634           AJUIZADA  Contribuições FGTS     25/02/1999   \n",
       "698236           AJUIZADA  Contribuições FGTS     25/02/1999   \n",
       "\n",
       "       INDICADOR_AJUIZADO  VALOR_CONSOLIDADO                 __source_file__  \\\n",
       "236634                SIM           10729.25  arquivo_lai_FGTS_NA_202006.csv   \n",
       "698236                SIM           10653.48  arquivo_lai_FGTS_NA_202002.csv   \n",
       "\n",
       "        ANOMES ORIGEM  \n",
       "236634  202006   FGTS  \n",
       "698236  202002   FGTS  "
      ]
     },
     "execution_count": 5,
     "metadata": {},
     "output_type": "execute_result"
    }
   ],
   "source": [
    "duplicate_rows.loc[duplicate_rows['CPF_CNPJ'] == '26925503000161']"
   ]
  },
  {
   "cell_type": "code",
   "execution_count": null,
   "id": "faf76587",
   "metadata": {},
   "outputs": [
    {
     "name": "stdout",
     "output_type": "stream",
     "text": [
      "NUMERO_INSCRICAO\n",
      "FGTO201400143    2\n",
      "FGTO201500125    2\n",
      "FGTO201600378    2\n",
      "FGTO200800023    2\n",
      "FGTO201900063    2\n",
      "                ..\n",
      "FGAC201000057    2\n",
      "FGAC201000046    2\n",
      "FGAC201700422    2\n",
      "FGAC201100024    2\n",
      "FGAC201500072    2\n",
      "Name: count, Length: 436896, dtype: int64\n"
     ]
    }
   ],
   "source": [
    "count = final_df['NUMERO_INSCRICAO'].value_counts()\n",
    "duplicates = count[count > 1]\n",
    "print(duplicates)\n",
    "\n",
    "duplicate_rows = final_df[final_df['NUMERO_INSCRICAO'].isin(duplicates.index)]\n"
   ]
  },
  {
   "cell_type": "code",
   "execution_count": null,
   "id": "d9018b25",
   "metadata": {},
   "outputs": [
    {
     "data": {
      "application/vnd.microsoft.datawrangler.viewer.v0+json": {
       "columns": [
        {
         "name": "index",
         "rawType": "int64",
         "type": "integer"
        },
        {
         "name": "CPF_CNPJ",
         "rawType": "object",
         "type": "string"
        },
        {
         "name": "TIPO_PESSOA",
         "rawType": "object",
         "type": "string"
        },
        {
         "name": "TIPO_DEVEDOR",
         "rawType": "object",
         "type": "string"
        },
        {
         "name": "NOME_DEVEDOR",
         "rawType": "object",
         "type": "string"
        },
        {
         "name": "UF_UNIDADE_RESPONSAVEL",
         "rawType": "object",
         "type": "string"
        },
        {
         "name": "UNIDADE_RESPONSAVEL",
         "rawType": "object",
         "type": "string"
        },
        {
         "name": "ENTIDADE_RESPONSAVEL",
         "rawType": "object",
         "type": "string"
        },
        {
         "name": "UNIDADE_INSCRICAO",
         "rawType": "object",
         "type": "string"
        },
        {
         "name": "NUMERO_INSCRICAO",
         "rawType": "object",
         "type": "string"
        },
        {
         "name": "TIPO_SITUACAO_INSCRICAO",
         "rawType": "object",
         "type": "string"
        },
        {
         "name": "SITUACAO_INSCRICAO",
         "rawType": "object",
         "type": "string"
        },
        {
         "name": "RECEITA_PRINCIPAL",
         "rawType": "object",
         "type": "string"
        },
        {
         "name": "DATA_INSCRICAO",
         "rawType": "object",
         "type": "string"
        },
        {
         "name": "INDICADOR_AJUIZADO",
         "rawType": "object",
         "type": "string"
        },
        {
         "name": "VALOR_CONSOLIDADO",
         "rawType": "float64",
         "type": "float"
        },
        {
         "name": "__source_file__",
         "rawType": "object",
         "type": "string"
        },
        {
         "name": "ANOMES",
         "rawType": "object",
         "type": "string"
        },
        {
         "name": "ORIGEM",
         "rawType": "object",
         "type": "string"
        }
       ],
       "conversionMethod": "pd.DataFrame",
       "ref": "3df933f2-3cf0-4dc7-872c-7ea70e80f997",
       "rows": [
        [
         "440886",
         "10922861000180",
         "Pessoa jurídica",
         "Principal",
         "TEIXEIRA & PEREIRA LTDA",
         "TO",
         "TOCANTINS",
         "PGFN",
         "TOCANTINS",
         "FGTO201500125",
         "Em cobrança",
         "AJUIZADA",
         "Contribuições FGTS",
         "20/08/2015",
         "SIM",
         "8629.79",
         "arquivo_lai_FGTS_TO_202006.csv",
         "202006",
         "FGTS"
        ],
        [
         "880810",
         "10922861000180",
         "Pessoa jurídica",
         "Principal",
         "TEIXEIRA & PEREIRA LTDA",
         "TO",
         "TOCANTINS",
         "PGFN",
         "TOCANTINS",
         "FGTO201500125",
         "Em cobrança",
         "AJUIZADA",
         "Contribuições FGTS",
         "20/08/2015",
         "SIM",
         "8515.33",
         "arquivo_lai_FGTS_TO_202002.csv",
         "202002",
         "FGTS"
        ]
       ],
       "shape": {
        "columns": 18,
        "rows": 2
       }
      },
      "text/html": [
       "<div>\n",
       "<style scoped>\n",
       "    .dataframe tbody tr th:only-of-type {\n",
       "        vertical-align: middle;\n",
       "    }\n",
       "\n",
       "    .dataframe tbody tr th {\n",
       "        vertical-align: top;\n",
       "    }\n",
       "\n",
       "    .dataframe thead th {\n",
       "        text-align: right;\n",
       "    }\n",
       "</style>\n",
       "<table border=\"1\" class=\"dataframe\">\n",
       "  <thead>\n",
       "    <tr style=\"text-align: right;\">\n",
       "      <th></th>\n",
       "      <th>CPF_CNPJ</th>\n",
       "      <th>TIPO_PESSOA</th>\n",
       "      <th>TIPO_DEVEDOR</th>\n",
       "      <th>NOME_DEVEDOR</th>\n",
       "      <th>UF_UNIDADE_RESPONSAVEL</th>\n",
       "      <th>UNIDADE_RESPONSAVEL</th>\n",
       "      <th>ENTIDADE_RESPONSAVEL</th>\n",
       "      <th>UNIDADE_INSCRICAO</th>\n",
       "      <th>NUMERO_INSCRICAO</th>\n",
       "      <th>TIPO_SITUACAO_INSCRICAO</th>\n",
       "      <th>SITUACAO_INSCRICAO</th>\n",
       "      <th>RECEITA_PRINCIPAL</th>\n",
       "      <th>DATA_INSCRICAO</th>\n",
       "      <th>INDICADOR_AJUIZADO</th>\n",
       "      <th>VALOR_CONSOLIDADO</th>\n",
       "      <th>__source_file__</th>\n",
       "      <th>ANOMES</th>\n",
       "      <th>ORIGEM</th>\n",
       "    </tr>\n",
       "  </thead>\n",
       "  <tbody>\n",
       "    <tr>\n",
       "      <th>440886</th>\n",
       "      <td>10922861000180</td>\n",
       "      <td>Pessoa jurídica</td>\n",
       "      <td>Principal</td>\n",
       "      <td>TEIXEIRA &amp; PEREIRA LTDA</td>\n",
       "      <td>TO</td>\n",
       "      <td>TOCANTINS</td>\n",
       "      <td>PGFN</td>\n",
       "      <td>TOCANTINS</td>\n",
       "      <td>FGTO201500125</td>\n",
       "      <td>Em cobrança</td>\n",
       "      <td>AJUIZADA</td>\n",
       "      <td>Contribuições FGTS</td>\n",
       "      <td>20/08/2015</td>\n",
       "      <td>SIM</td>\n",
       "      <td>8629.79</td>\n",
       "      <td>arquivo_lai_FGTS_TO_202006.csv</td>\n",
       "      <td>202006</td>\n",
       "      <td>FGTS</td>\n",
       "    </tr>\n",
       "    <tr>\n",
       "      <th>880810</th>\n",
       "      <td>10922861000180</td>\n",
       "      <td>Pessoa jurídica</td>\n",
       "      <td>Principal</td>\n",
       "      <td>TEIXEIRA &amp; PEREIRA LTDA</td>\n",
       "      <td>TO</td>\n",
       "      <td>TOCANTINS</td>\n",
       "      <td>PGFN</td>\n",
       "      <td>TOCANTINS</td>\n",
       "      <td>FGTO201500125</td>\n",
       "      <td>Em cobrança</td>\n",
       "      <td>AJUIZADA</td>\n",
       "      <td>Contribuições FGTS</td>\n",
       "      <td>20/08/2015</td>\n",
       "      <td>SIM</td>\n",
       "      <td>8515.33</td>\n",
       "      <td>arquivo_lai_FGTS_TO_202002.csv</td>\n",
       "      <td>202002</td>\n",
       "      <td>FGTS</td>\n",
       "    </tr>\n",
       "  </tbody>\n",
       "</table>\n",
       "</div>"
      ],
      "text/plain": [
       "              CPF_CNPJ      TIPO_PESSOA TIPO_DEVEDOR             NOME_DEVEDOR  \\\n",
       "440886  10922861000180  Pessoa jurídica    Principal  TEIXEIRA & PEREIRA LTDA   \n",
       "880810  10922861000180  Pessoa jurídica    Principal  TEIXEIRA & PEREIRA LTDA   \n",
       "\n",
       "       UF_UNIDADE_RESPONSAVEL UNIDADE_RESPONSAVEL ENTIDADE_RESPONSAVEL  \\\n",
       "440886                     TO           TOCANTINS                 PGFN   \n",
       "880810                     TO           TOCANTINS                 PGFN   \n",
       "\n",
       "       UNIDADE_INSCRICAO NUMERO_INSCRICAO TIPO_SITUACAO_INSCRICAO  \\\n",
       "440886         TOCANTINS    FGTO201500125             Em cobrança   \n",
       "880810         TOCANTINS    FGTO201500125             Em cobrança   \n",
       "\n",
       "       SITUACAO_INSCRICAO   RECEITA_PRINCIPAL DATA_INSCRICAO  \\\n",
       "440886           AJUIZADA  Contribuições FGTS     20/08/2015   \n",
       "880810           AJUIZADA  Contribuições FGTS     20/08/2015   \n",
       "\n",
       "       INDICADOR_AJUIZADO  VALOR_CONSOLIDADO                 __source_file__  \\\n",
       "440886                SIM            8629.79  arquivo_lai_FGTS_TO_202006.csv   \n",
       "880810                SIM            8515.33  arquivo_lai_FGTS_TO_202002.csv   \n",
       "\n",
       "        ANOMES ORIGEM  \n",
       "440886  202006   FGTS  \n",
       "880810  202002   FGTS  "
      ]
     },
     "execution_count": 7,
     "metadata": {},
     "output_type": "execute_result"
    }
   ],
   "source": [
    "duplicate_rows.loc[duplicate_rows['NUMERO_INSCRICAO'] == 'FGTO201500125']"
   ]
  },
  {
   "cell_type": "code",
   "execution_count": 21,
   "id": "246968c1",
   "metadata": {},
   "outputs": [],
   "source": [
    "situacao_df = final_df[[\n",
    "    'NUMERO_INSCRICAO',\n",
    "    'ANOMES',\n",
    "    'SITUACAO_INSCRICAO'\n",
    "]].drop_duplicates().sort_values(by=['NUMERO_INSCRICAO', 'ANOMES'])\n",
    "\n",
    "situacao_df['SITUACAO_INSCRICAO_ANTERIOR'] = situacao_df.groupby('NUMERO_INSCRICAO')['SITUACAO_INSCRICAO'].shift(1)\n",
    "\n",
    "situacao_df['MUDOU_PARA_AJUIZADA'] = (\n",
    "    (situacao_df['SITUACAO_INSCRICAO_ANTERIOR'] == 'INSCRITA') &\n",
    "    (situacao_df['SITUACAO_INSCRICAO'] == 'AJUIZADA')\n",
    ")\n",
    "\n",
    "situacao_df = situacao_df[[\n",
    "    'NUMERO_INSCRICAO',\n",
    "    'MUDOU_PARA_AJUIZADA',\n",
    "    'SITUACAO_INSCRICAO_ANTERIOR',\n",
    "    'SITUACAO_INSCRICAO',\n",
    "    'ANOMES'\n",
    "]]\n",
    "\n"
   ]
  },
  {
   "cell_type": "code",
   "execution_count": null,
   "id": "086f1dbf",
   "metadata": {},
   "outputs": [
    {
     "ename": "NameError",
     "evalue": "name 'head' is not defined",
     "output_type": "error",
     "traceback": [
      "\u001b[31m---------------------------------------------------------------------------\u001b[39m",
      "\u001b[31mNameError\u001b[39m                                 Traceback (most recent call last)",
      "\u001b[36mCell\u001b[39m\u001b[36m \u001b[39m\u001b[32mIn[19]\u001b[39m\u001b[32m, line 1\u001b[39m\n\u001b[32m----> \u001b[39m\u001b[32m1\u001b[39m \u001b[43mhead\u001b[49m(situcao_df)\n",
      "\u001b[31mNameError\u001b[39m: name 'head' is not defined"
     ]
    }
   ],
   "source": [
    "situacao_df"
   ]
  }
 ],
 "metadata": {
  "kernelspec": {
   "display_name": "venv",
   "language": "python",
   "name": "python3"
  },
  "language_info": {
   "codemirror_mode": {
    "name": "ipython",
    "version": 3
   },
   "file_extension": ".py",
   "mimetype": "text/x-python",
   "name": "python",
   "nbconvert_exporter": "python",
   "pygments_lexer": "ipython3",
   "version": "3.12.3"
  }
 },
 "nbformat": 4,
 "nbformat_minor": 5
}
