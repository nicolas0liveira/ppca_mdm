{
 "cells": [
  {
   "cell_type": "markdown",
   "id": "497e2f76",
   "metadata": {},
   "source": [
    "# Exploratory"
   ]
  },
  {
   "cell_type": "markdown",
   "id": "516d168e",
   "metadata": {},
   "source": [
    "## Notes\n",
    "\n",
    "* **FGTS:** Refere-se a débitos de empregadores com o fundo de garantia.\n",
    "* **PREV (Previdenciário):** Débitos de contribuições previdenciárias.\n",
    "* **SIDA:** Conjunto de dados do sistema unificado da administração federal, com dados detalhados sobre devedores e sua situação perante a União.\n",
    "\n",
    "Layout dos arquivos:\n",
    "\n",
    "➜ FGTS PREV e SIDA\n",
    "| Campo                     | Descrição                                                                 |\n",
    "|---------------------------|---------------------------------------------------------------------------|\n",
    "| CPF_CNPJ                  | CPF ou CNPJ do devedor inscrito na dívida ativa.                         |\n",
    "| TIPO_PESSOA               | Indica se o devedor é pessoa física (F) ou jurídica (J).                 |\n",
    "| TIPO_DEVEDOR              | Categoria do devedor: contribuinte individual, empresa, órgão público etc. |\n",
    "| NOME_DEVEDOR              | Nome ou razão social do devedor.                                         |\n",
    "| UF_DEVEDOR                | Unidade da Federação (estado) do devedor.                               |\n",
    "| UNIDADE_RESPONSAVEL       | Unidade da PGFN responsável pela inscrição da dívida.                   |\n",
    "| NUMERO_INSCRICAO          | Número único da inscrição da dívida ativa.                              |\n",
    "| TIPO_SITUACAO_INSCRICAO   | Tipo da situação da inscrição: ativa, suspensa, extinta etc.            |\n",
    "| SITUACAO_INSCRICAO        | Descrição detalhada da situação atual da dívida.                        |\n",
    "| TIPO_CREDITO              | Tipo de crédito tributário ou não tributário (ex: FGTS, Multas).        |\n",
    "| DATA_INSCRICAO            | Data da inscrição na dívida ativa.                                      |\n",
    "| INDICADOR_AJUIZADO        | Indica se a dívida foi ajuizada: 'S' ou 'N'.                            |\n",
    "| VALOR_CONSOLIDADO         | Valor total da dívida com acréscimos legais.                            |\n",
    "\n",
    "➜ FGTS\n",
    "| Campo                  | Descrição                                           |\n",
    "|------------------------|---------------------------------------------------|\n",
    "| ENTIDADE_RESPONSAVEL   | Entidade que gerou a inscrição do débito FGTS.    |\n",
    "| UNIDADE_INSCRICAO      | Unidade/agência que realizou a inscrição do débito FGTS. |\n"
   ]
  },
  {
   "cell_type": "markdown",
   "id": "1a502db6",
   "metadata": {},
   "source": []
  },
  {
   "cell_type": "markdown",
   "id": "3b40c3f5",
   "metadata": {},
   "source": [
    "## Init"
   ]
  },
  {
   "cell_type": "markdown",
   "id": "b5fe636b",
   "metadata": {},
   "source": [
    "### Functions"
   ]
  },
  {
   "cell_type": "code",
   "execution_count": 1,
   "id": "a2a6a9f5",
   "metadata": {},
   "outputs": [],
   "source": [
    "import pandas as pd\n",
    "import zipfile\n",
    "from io import TextIOWrapper\n",
    "\n",
    "def read_zip_csvs_as_df(zip_path, encoding=\"utf-8\", sep=\";\", verbose=True):\n",
    "    \"\"\"\n",
    "    Reads a .zip file, extracts all CSVs, and concatenates them into a single DataFrame.\n",
    "\n",
    "    :param zip_path: Path to the .zip file.\n",
    "    :param encoding: Encoding used in the CSV files.\n",
    "    :param sep: Field separator used in the CSV files.\n",
    "    :param verbose: If True, prints file processing status.\n",
    "    :return: A pandas DataFrame containing the concatenated CSV data.\n",
    "    \"\"\"\n",
    "    dataframes = []\n",
    "\n",
    "    with zipfile.ZipFile(zip_path, 'r') as z:\n",
    "        for file_name in z.namelist():\n",
    "            if file_name.endswith(\".csv\"):\n",
    "                if verbose:\n",
    "                    print(f\"📂 Reading: {file_name}\")\n",
    "                with z.open(file_name) as f:\n",
    "                    df = pd.read_csv(TextIOWrapper(f, encoding=encoding), sep=sep)\n",
    "                    df[\"__source_file__\"] = file_name  # Optional: tag for source file\n",
    "                    dataframes.append(df)\n",
    "\n",
    "    if not dataframes:\n",
    "        raise ValueError(\"No CSV files found in the ZIP archive.\")\n",
    "\n",
    "    combined_df = pd.concat(dataframes, ignore_index=True)\n",
    "    return combined_df\n"
   ]
  },
  {
   "cell_type": "code",
   "execution_count": null,
   "id": "81e162bd",
   "metadata": {},
   "outputs": [],
   "source": [
    "\n",
    "read_zip_csvs_as_df(\"\")"
   ]
  }
 ],
 "metadata": {
  "kernelspec": {
   "display_name": "venv",
   "language": "python",
   "name": "python3"
  },
  "language_info": {
   "codemirror_mode": {
    "name": "ipython",
    "version": 3
   },
   "file_extension": ".py",
   "mimetype": "text/x-python",
   "name": "python",
   "nbconvert_exporter": "python",
   "pygments_lexer": "ipython3",
   "version": "3.12.3"
  }
 },
 "nbformat": 4,
 "nbformat_minor": 5
}
